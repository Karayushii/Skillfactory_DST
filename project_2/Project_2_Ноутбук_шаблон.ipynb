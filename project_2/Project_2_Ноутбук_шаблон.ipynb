{
  "cells": [
    {
      "attachments": {},
      "cell_type": "markdown",
      "id": "42289889-bd57-434e-9637-d3e354756316",
      "metadata": {
        "id": "42289889-bd57-434e-9637-d3e354756316"
      },
      "source": [
        "<center> <img src = https://raw.githubusercontent.com/AndreyRysistov/DatasetsForPandas/main/hh%20label.jpg alt=\"drawing\" style=\"width:400px;\">"
      ]
    },
    {
      "attachments": {},
      "cell_type": "markdown",
      "id": "829cb75b-f14e-4ba8-9195-7ba929a7d656",
      "metadata": {
        "id": "829cb75b-f14e-4ba8-9195-7ba929a7d656",
        "tags": []
      },
      "source": [
        "# <center> Проект: Анализ вакансий из HeadHunter\n",
        "   "
      ]
    },
    {
      "cell_type": "code",
      "execution_count": 178,
      "id": "dccfde33-2452-43fb-a8a5-5c6ebc02a71d",
      "metadata": {
        "id": "dccfde33-2452-43fb-a8a5-5c6ebc02a71d"
      },
      "outputs": [],
      "source": [
        "import pandas as pd\n",
        "import psycopg2\n",
        "import plotly.express as px"
      ]
    },
    {
      "cell_type": "code",
      "execution_count": 180,
      "id": "G4X_q8KBf7SF",
      "metadata": {
        "id": "G4X_q8KBf7SF"
      },
      "outputs": [],
      "source": [
        "connection = psycopg2.connect(\n",
        "    dbname=DBNAME,\n",
        "    user=USER,\n",
        "    host=HOST,\n",
        "    password=PASSWORD,\n",
        "    port=PORT\n",
        ")"
      ]
    },
    {
      "attachments": {},
      "cell_type": "markdown",
      "id": "0dc6476b-7a00-44f1-ac93-6e3baed33a29",
      "metadata": {
        "id": "0dc6476b-7a00-44f1-ac93-6e3baed33a29"
      },
      "source": [
        "# Юнит 3. Предварительный анализ данных"
      ]
    },
    {
      "attachments": {},
      "cell_type": "markdown",
      "id": "889782b6-8d1c-410e-8920-e57f27917c64",
      "metadata": {
        "id": "889782b6-8d1c-410e-8920-e57f27917c64"
      },
      "source": [
        "1. Напишите запрос, который посчитает количество вакансий в нашей базе (вакансии находятся в таблице vacancies). "
      ]
    },
    {
      "cell_type": "code",
      "execution_count": 181,
      "id": "bc39e68e-ed02-4ee2-9235-7258a2f867a8",
      "metadata": {
        "id": "bc39e68e-ed02-4ee2-9235-7258a2f867a8"
      },
      "outputs": [],
      "source": [
        "# текст запроса\n",
        "query_3_1 = f''' select COUNT(*)\n",
        "                from vacancies\n",
        "            '''"
      ]
    },
    {
      "cell_type": "code",
      "execution_count": 182,
      "id": "7mAwtsk4hEHY",
      "metadata": {
        "id": "7mAwtsk4hEHY"
      },
      "outputs": [
        {
          "name": "stderr",
          "output_type": "stream",
          "text": [
            "/Users/olegkudrasev/opt/anaconda3/lib/python3.9/site-packages/pandas/io/sql.py:762: UserWarning:\n",
            "\n",
            "pandas only support SQLAlchemy connectable(engine/connection) ordatabase string URI or sqlite3 DBAPI2 connectionother DBAPI2 objects are not tested, please consider using SQLAlchemy\n",
            "\n"
          ]
        },
        {
          "data": {
            "text/html": [
              "<div>\n",
              "<style scoped>\n",
              "    .dataframe tbody tr th:only-of-type {\n",
              "        vertical-align: middle;\n",
              "    }\n",
              "\n",
              "    .dataframe tbody tr th {\n",
              "        vertical-align: top;\n",
              "    }\n",
              "\n",
              "    .dataframe thead th {\n",
              "        text-align: right;\n",
              "    }\n",
              "</style>\n",
              "<table border=\"1\" class=\"dataframe\">\n",
              "  <thead>\n",
              "    <tr style=\"text-align: right;\">\n",
              "      <th></th>\n",
              "      <th>count</th>\n",
              "    </tr>\n",
              "  </thead>\n",
              "  <tbody>\n",
              "    <tr>\n",
              "      <th>0</th>\n",
              "      <td>49197</td>\n",
              "    </tr>\n",
              "  </tbody>\n",
              "</table>\n",
              "</div>"
            ],
            "text/plain": [
              "   count\n",
              "0  49197"
            ]
          },
          "execution_count": 182,
          "metadata": {},
          "output_type": "execute_result"
        }
      ],
      "source": [
        "df_3_1 = pd.read_sql_query(query_3_1,connection)\n",
        "df_3_1"
      ]
    },
    {
      "attachments": {},
      "cell_type": "markdown",
      "id": "b583485d-1f9e-494e-ada4-80ffff7c53d6",
      "metadata": {
        "id": "b583485d-1f9e-494e-ada4-80ffff7c53d6"
      },
      "source": [
        "2. Напишите запрос, который посчитает количество работодателей (таблица employers). "
      ]
    },
    {
      "cell_type": "code",
      "execution_count": 183,
      "id": "5408c52c-3407-4a63-b25b-1aafa2322d28",
      "metadata": {
        "id": "5408c52c-3407-4a63-b25b-1aafa2322d28"
      },
      "outputs": [],
      "source": [
        "query_3_2 = f'''select count(*)\n",
        "from employers'''"
      ]
    },
    {
      "cell_type": "code",
      "execution_count": 184,
      "id": "jVL4eshKhdqc",
      "metadata": {
        "id": "jVL4eshKhdqc"
      },
      "outputs": [
        {
          "name": "stderr",
          "output_type": "stream",
          "text": [
            "/Users/olegkudrasev/opt/anaconda3/lib/python3.9/site-packages/pandas/io/sql.py:762: UserWarning:\n",
            "\n",
            "pandas only support SQLAlchemy connectable(engine/connection) ordatabase string URI or sqlite3 DBAPI2 connectionother DBAPI2 objects are not tested, please consider using SQLAlchemy\n",
            "\n"
          ]
        },
        {
          "data": {
            "text/html": [
              "<div>\n",
              "<style scoped>\n",
              "    .dataframe tbody tr th:only-of-type {\n",
              "        vertical-align: middle;\n",
              "    }\n",
              "\n",
              "    .dataframe tbody tr th {\n",
              "        vertical-align: top;\n",
              "    }\n",
              "\n",
              "    .dataframe thead th {\n",
              "        text-align: right;\n",
              "    }\n",
              "</style>\n",
              "<table border=\"1\" class=\"dataframe\">\n",
              "  <thead>\n",
              "    <tr style=\"text-align: right;\">\n",
              "      <th></th>\n",
              "      <th>count</th>\n",
              "    </tr>\n",
              "  </thead>\n",
              "  <tbody>\n",
              "    <tr>\n",
              "      <th>0</th>\n",
              "      <td>23501</td>\n",
              "    </tr>\n",
              "  </tbody>\n",
              "</table>\n",
              "</div>"
            ],
            "text/plain": [
              "   count\n",
              "0  23501"
            ]
          },
          "execution_count": 184,
          "metadata": {},
          "output_type": "execute_result"
        }
      ],
      "source": [
        "df_3_2 = pd.read_sql_query(query_3_2,connection)\n",
        "df_3_2"
      ]
    },
    {
      "attachments": {},
      "cell_type": "markdown",
      "id": "a2bfff1f-c975-4bf6-84be-2185d79dcb76",
      "metadata": {
        "id": "a2bfff1f-c975-4bf6-84be-2185d79dcb76"
      },
      "source": [
        "3. Посчитате с помощью запроса количество регионов (таблица areas)."
      ]
    },
    {
      "cell_type": "code",
      "execution_count": 185,
      "id": "1m8QJwBYhey6",
      "metadata": {
        "id": "1m8QJwBYhey6"
      },
      "outputs": [],
      "source": [
        "query_3_3 = f'''select count(*)\n",
        "from areas'''"
      ]
    },
    {
      "cell_type": "code",
      "execution_count": 186,
      "id": "EZsn9tlfhe7f",
      "metadata": {
        "id": "EZsn9tlfhe7f"
      },
      "outputs": [
        {
          "name": "stderr",
          "output_type": "stream",
          "text": [
            "/Users/olegkudrasev/opt/anaconda3/lib/python3.9/site-packages/pandas/io/sql.py:762: UserWarning:\n",
            "\n",
            "pandas only support SQLAlchemy connectable(engine/connection) ordatabase string URI or sqlite3 DBAPI2 connectionother DBAPI2 objects are not tested, please consider using SQLAlchemy\n",
            "\n"
          ]
        },
        {
          "data": {
            "text/html": [
              "<div>\n",
              "<style scoped>\n",
              "    .dataframe tbody tr th:only-of-type {\n",
              "        vertical-align: middle;\n",
              "    }\n",
              "\n",
              "    .dataframe tbody tr th {\n",
              "        vertical-align: top;\n",
              "    }\n",
              "\n",
              "    .dataframe thead th {\n",
              "        text-align: right;\n",
              "    }\n",
              "</style>\n",
              "<table border=\"1\" class=\"dataframe\">\n",
              "  <thead>\n",
              "    <tr style=\"text-align: right;\">\n",
              "      <th></th>\n",
              "      <th>count</th>\n",
              "    </tr>\n",
              "  </thead>\n",
              "  <tbody>\n",
              "    <tr>\n",
              "      <th>0</th>\n",
              "      <td>1362</td>\n",
              "    </tr>\n",
              "  </tbody>\n",
              "</table>\n",
              "</div>"
            ],
            "text/plain": [
              "   count\n",
              "0   1362"
            ]
          },
          "execution_count": 186,
          "metadata": {},
          "output_type": "execute_result"
        }
      ],
      "source": [
        "df_3_3 = pd.read_sql_query(query_3_3,connection)\n",
        "df_3_3"
      ]
    },
    {
      "attachments": {},
      "cell_type": "markdown",
      "id": "41bb59f3-53cc-4a67-a5bc-bedf573955e4",
      "metadata": {
        "id": "41bb59f3-53cc-4a67-a5bc-bedf573955e4"
      },
      "source": [
        "4. Посчитате с помощью запроса количество сфер деятельности в базе (таблица industries)."
      ]
    },
    {
      "cell_type": "code",
      "execution_count": 187,
      "id": "d286cf4c-707b-4cd2-9190-7ab3587d04a1",
      "metadata": {
        "id": "d286cf4c-707b-4cd2-9190-7ab3587d04a1"
      },
      "outputs": [],
      "source": [
        "query_3_4 = f'''select count(*)\n",
        "from industries'''"
      ]
    },
    {
      "cell_type": "code",
      "execution_count": 188,
      "id": "JYAaoZ4qhfzW",
      "metadata": {
        "id": "JYAaoZ4qhfzW"
      },
      "outputs": [
        {
          "name": "stderr",
          "output_type": "stream",
          "text": [
            "/Users/olegkudrasev/opt/anaconda3/lib/python3.9/site-packages/pandas/io/sql.py:762: UserWarning:\n",
            "\n",
            "pandas only support SQLAlchemy connectable(engine/connection) ordatabase string URI or sqlite3 DBAPI2 connectionother DBAPI2 objects are not tested, please consider using SQLAlchemy\n",
            "\n"
          ]
        },
        {
          "data": {
            "text/html": [
              "<div>\n",
              "<style scoped>\n",
              "    .dataframe tbody tr th:only-of-type {\n",
              "        vertical-align: middle;\n",
              "    }\n",
              "\n",
              "    .dataframe tbody tr th {\n",
              "        vertical-align: top;\n",
              "    }\n",
              "\n",
              "    .dataframe thead th {\n",
              "        text-align: right;\n",
              "    }\n",
              "</style>\n",
              "<table border=\"1\" class=\"dataframe\">\n",
              "  <thead>\n",
              "    <tr style=\"text-align: right;\">\n",
              "      <th></th>\n",
              "      <th>count</th>\n",
              "    </tr>\n",
              "  </thead>\n",
              "  <tbody>\n",
              "    <tr>\n",
              "      <th>0</th>\n",
              "      <td>294</td>\n",
              "    </tr>\n",
              "  </tbody>\n",
              "</table>\n",
              "</div>"
            ],
            "text/plain": [
              "   count\n",
              "0    294"
            ]
          },
          "execution_count": 188,
          "metadata": {},
          "output_type": "execute_result"
        }
      ],
      "source": [
        "df_3_4 = pd.read_sql_query(query_3_4,connection)\n",
        "df_3_4"
      ]
    },
    {
      "attachments": {},
      "cell_type": "markdown",
      "id": "9a8a2181-6914-448b-85f1-38f5f18b8a93",
      "metadata": {
        "id": "9a8a2181-6914-448b-85f1-38f5f18b8a93"
      },
      "source": [
        "***"
      ]
    },
    {
      "attachments": {},
      "cell_type": "markdown",
      "id": "993b3605",
      "metadata": {},
      "source": [
        "1. Соотношение количества вакансий к количеству работодателей 2/1. Конкретных выводов сделать нельзя, так как количество вакансий на одного работодателя может сильно отличаться. Яндекс 100 вакансий в разных городах. ООО \"Вася Пупкин\" - 0 вакансий. Необходим более глубокий анализ.  \n",
        "2. Охватываемая область поиска не только Россия, так как в в России только 1117 городов.\n",
        "3. В данных высокий охват по разным областям деятельности."
      ]
    },
    {
      "attachments": {},
      "cell_type": "markdown",
      "id": "8d62a9f3-f64e-4fe7-bdac-c4dffa16155e",
      "metadata": {
        "id": "8d62a9f3-f64e-4fe7-bdac-c4dffa16155e"
      },
      "source": [
        "# Юнит 4. Детальный анализ вакансий"
      ]
    },
    {
      "attachments": {},
      "cell_type": "markdown",
      "id": "93053d3d-b284-481a-9cf7-012d7014c0e0",
      "metadata": {
        "id": "93053d3d-b284-481a-9cf7-012d7014c0e0"
      },
      "source": [
        "1. Напишите запрос, который позволит узнать, сколько (cnt) вакансий в каждом регионе (area).\n",
        "Отсортируйте по количеству вакансий в порядке убывания."
      ]
    },
    {
      "cell_type": "code",
      "execution_count": 189,
      "id": "3f069da6-fdc9-4ae7-b514-fafe2675efd3",
      "metadata": {
        "id": "3f069da6-fdc9-4ae7-b514-fafe2675efd3"
      },
      "outputs": [],
      "source": [
        "query_4_1 = f'''select \n",
        "a.name area,\n",
        "count(v.id) cnt\n",
        "from vacancies v \n",
        "join areas a on a.id = v.area_id\n",
        "group by a.name\n",
        "order by count(v.id) desc\n",
        "'''"
      ]
    },
    {
      "cell_type": "code",
      "execution_count": 190,
      "id": "P7QL86hrjhRJ",
      "metadata": {
        "id": "P7QL86hrjhRJ"
      },
      "outputs": [
        {
          "name": "stderr",
          "output_type": "stream",
          "text": [
            "/Users/olegkudrasev/opt/anaconda3/lib/python3.9/site-packages/pandas/io/sql.py:762: UserWarning:\n",
            "\n",
            "pandas only support SQLAlchemy connectable(engine/connection) ordatabase string URI or sqlite3 DBAPI2 connectionother DBAPI2 objects are not tested, please consider using SQLAlchemy\n",
            "\n"
          ]
        },
        {
          "data": {
            "text/html": [
              "<div>\n",
              "<style scoped>\n",
              "    .dataframe tbody tr th:only-of-type {\n",
              "        vertical-align: middle;\n",
              "    }\n",
              "\n",
              "    .dataframe tbody tr th {\n",
              "        vertical-align: top;\n",
              "    }\n",
              "\n",
              "    .dataframe thead th {\n",
              "        text-align: right;\n",
              "    }\n",
              "</style>\n",
              "<table border=\"1\" class=\"dataframe\">\n",
              "  <thead>\n",
              "    <tr style=\"text-align: right;\">\n",
              "      <th></th>\n",
              "      <th>area</th>\n",
              "      <th>cnt</th>\n",
              "    </tr>\n",
              "  </thead>\n",
              "  <tbody>\n",
              "    <tr>\n",
              "      <th>0</th>\n",
              "      <td>Москва</td>\n",
              "      <td>5333</td>\n",
              "    </tr>\n",
              "    <tr>\n",
              "      <th>1</th>\n",
              "      <td>Санкт-Петербург</td>\n",
              "      <td>2851</td>\n",
              "    </tr>\n",
              "    <tr>\n",
              "      <th>2</th>\n",
              "      <td>Минск</td>\n",
              "      <td>2112</td>\n",
              "    </tr>\n",
              "    <tr>\n",
              "      <th>3</th>\n",
              "      <td>Новосибирск</td>\n",
              "      <td>2006</td>\n",
              "    </tr>\n",
              "    <tr>\n",
              "      <th>4</th>\n",
              "      <td>Алматы</td>\n",
              "      <td>1892</td>\n",
              "    </tr>\n",
              "    <tr>\n",
              "      <th>...</th>\n",
              "      <td>...</td>\n",
              "      <td>...</td>\n",
              "    </tr>\n",
              "    <tr>\n",
              "      <th>764</th>\n",
              "      <td>Тарко-Сале</td>\n",
              "      <td>1</td>\n",
              "    </tr>\n",
              "    <tr>\n",
              "      <th>765</th>\n",
              "      <td>Новоаннинский</td>\n",
              "      <td>1</td>\n",
              "    </tr>\n",
              "    <tr>\n",
              "      <th>766</th>\n",
              "      <td>Бирск</td>\n",
              "      <td>1</td>\n",
              "    </tr>\n",
              "    <tr>\n",
              "      <th>767</th>\n",
              "      <td>Сасово</td>\n",
              "      <td>1</td>\n",
              "    </tr>\n",
              "    <tr>\n",
              "      <th>768</th>\n",
              "      <td>Анна</td>\n",
              "      <td>1</td>\n",
              "    </tr>\n",
              "  </tbody>\n",
              "</table>\n",
              "<p>769 rows × 2 columns</p>\n",
              "</div>"
            ],
            "text/plain": [
              "                area   cnt\n",
              "0             Москва  5333\n",
              "1    Санкт-Петербург  2851\n",
              "2              Минск  2112\n",
              "3        Новосибирск  2006\n",
              "4             Алматы  1892\n",
              "..               ...   ...\n",
              "764       Тарко-Сале     1\n",
              "765    Новоаннинский     1\n",
              "766            Бирск     1\n",
              "767           Сасово     1\n",
              "768             Анна     1\n",
              "\n",
              "[769 rows x 2 columns]"
            ]
          },
          "execution_count": 190,
          "metadata": {},
          "output_type": "execute_result"
        }
      ],
      "source": [
        "df_4_1 = pd.read_sql_query(query_4_1,connection)\n",
        "df_4_1"
      ]
    },
    {
      "attachments": {},
      "cell_type": "markdown",
      "id": "4266f0b6-1646-492a-88b4-2f6a46502135",
      "metadata": {
        "id": "4266f0b6-1646-492a-88b4-2f6a46502135"
      },
      "source": [
        "2. Напишите запрос, чтобы определить у какого количества вакансий заполнено хотя бы одно из двух полей с зарплатой."
      ]
    },
    {
      "cell_type": "code",
      "execution_count": 191,
      "id": "0c44b350-72eb-4d65-8b54-a1fc449ba9fd",
      "metadata": {
        "id": "0c44b350-72eb-4d65-8b54-a1fc449ba9fd"
      },
      "outputs": [],
      "source": [
        "query_4_2 = f'''select count(*)\n",
        "from vacancies\n",
        "where salary_from is not null or salary_to is not null\n",
        "'''"
      ]
    },
    {
      "cell_type": "code",
      "execution_count": 192,
      "id": "rhvwaMDkoWTi",
      "metadata": {
        "id": "rhvwaMDkoWTi"
      },
      "outputs": [
        {
          "name": "stderr",
          "output_type": "stream",
          "text": [
            "/Users/olegkudrasev/opt/anaconda3/lib/python3.9/site-packages/pandas/io/sql.py:762: UserWarning:\n",
            "\n",
            "pandas only support SQLAlchemy connectable(engine/connection) ordatabase string URI or sqlite3 DBAPI2 connectionother DBAPI2 objects are not tested, please consider using SQLAlchemy\n",
            "\n"
          ]
        },
        {
          "data": {
            "text/html": [
              "<div>\n",
              "<style scoped>\n",
              "    .dataframe tbody tr th:only-of-type {\n",
              "        vertical-align: middle;\n",
              "    }\n",
              "\n",
              "    .dataframe tbody tr th {\n",
              "        vertical-align: top;\n",
              "    }\n",
              "\n",
              "    .dataframe thead th {\n",
              "        text-align: right;\n",
              "    }\n",
              "</style>\n",
              "<table border=\"1\" class=\"dataframe\">\n",
              "  <thead>\n",
              "    <tr style=\"text-align: right;\">\n",
              "      <th></th>\n",
              "      <th>count</th>\n",
              "    </tr>\n",
              "  </thead>\n",
              "  <tbody>\n",
              "    <tr>\n",
              "      <th>0</th>\n",
              "      <td>24073</td>\n",
              "    </tr>\n",
              "  </tbody>\n",
              "</table>\n",
              "</div>"
            ],
            "text/plain": [
              "   count\n",
              "0  24073"
            ]
          },
          "execution_count": 192,
          "metadata": {},
          "output_type": "execute_result"
        }
      ],
      "source": [
        "df_4_2 = pd.read_sql_query(query_4_2,connection)\n",
        "df_4_2"
      ]
    },
    {
      "attachments": {},
      "cell_type": "markdown",
      "id": "635c4d5d-f323-4c66-b428-50a088120aa0",
      "metadata": {
        "id": "635c4d5d-f323-4c66-b428-50a088120aa0"
      },
      "source": [
        "3. Найдите средние значения для нижней и верхней границы зарплатной вилки. Округлите значения до целого."
      ]
    },
    {
      "cell_type": "code",
      "execution_count": 193,
      "id": "603cdbe4-0ec3-4106-8eaf-c73fcdd29165",
      "metadata": {
        "id": "603cdbe4-0ec3-4106-8eaf-c73fcdd29165"
      },
      "outputs": [],
      "source": [
        "query_4_3 = f'''select \n",
        "round(avg(salary_from)),\n",
        "round(avg(salary_to))\n",
        "from vacancies\n",
        "where salary_from is not null or salary_to is not null\n",
        "'''\n",
        "\n"
      ]
    },
    {
      "cell_type": "code",
      "execution_count": 194,
      "id": "pswpAb66ovZZ",
      "metadata": {
        "id": "pswpAb66ovZZ"
      },
      "outputs": [
        {
          "name": "stderr",
          "output_type": "stream",
          "text": [
            "/Users/olegkudrasev/opt/anaconda3/lib/python3.9/site-packages/pandas/io/sql.py:762: UserWarning:\n",
            "\n",
            "pandas only support SQLAlchemy connectable(engine/connection) ordatabase string URI or sqlite3 DBAPI2 connectionother DBAPI2 objects are not tested, please consider using SQLAlchemy\n",
            "\n"
          ]
        },
        {
          "data": {
            "text/html": [
              "<div>\n",
              "<style scoped>\n",
              "    .dataframe tbody tr th:only-of-type {\n",
              "        vertical-align: middle;\n",
              "    }\n",
              "\n",
              "    .dataframe tbody tr th {\n",
              "        vertical-align: top;\n",
              "    }\n",
              "\n",
              "    .dataframe thead th {\n",
              "        text-align: right;\n",
              "    }\n",
              "</style>\n",
              "<table border=\"1\" class=\"dataframe\">\n",
              "  <thead>\n",
              "    <tr style=\"text-align: right;\">\n",
              "      <th></th>\n",
              "      <th>round</th>\n",
              "      <th>round</th>\n",
              "    </tr>\n",
              "  </thead>\n",
              "  <tbody>\n",
              "    <tr>\n",
              "      <th>0</th>\n",
              "      <td>71065.0</td>\n",
              "      <td>110537.0</td>\n",
              "    </tr>\n",
              "  </tbody>\n",
              "</table>\n",
              "</div>"
            ],
            "text/plain": [
              "     round     round\n",
              "0  71065.0  110537.0"
            ]
          },
          "execution_count": 194,
          "metadata": {},
          "output_type": "execute_result"
        }
      ],
      "source": [
        "df_4_3 = pd.read_sql_query(query_4_3,connection)\n",
        "df_4_3"
      ]
    },
    {
      "attachments": {},
      "cell_type": "markdown",
      "id": "f3fdaec9-5fd3-4260-9cf5-1d7406b628a5",
      "metadata": {
        "id": "f3fdaec9-5fd3-4260-9cf5-1d7406b628a5"
      },
      "source": [
        "4. Напишите запрос, который выведет количество вакансий для каждого сочетания типа рабочего графика (schedule) и типа трудоустройства (employment), используемого в вакансиях. Результат отсортируйте по убыванию количества.\n"
      ]
    },
    {
      "cell_type": "code",
      "execution_count": 195,
      "id": "1ea710ec-871b-431e-9462-c7d0fd87011b",
      "metadata": {
        "id": "1ea710ec-871b-431e-9462-c7d0fd87011b"
      },
      "outputs": [],
      "source": [
        "query_4_4 = f'''select\n",
        "schedule,\n",
        "employment,\n",
        "count(id)\n",
        "from vacancies\n",
        "group by schedule,employment\n",
        "order by count(id) desc\n",
        "offset 1 limit 1\n",
        "'''"
      ]
    },
    {
      "cell_type": "code",
      "execution_count": 196,
      "id": "lGUVqavdo4JQ",
      "metadata": {
        "id": "lGUVqavdo4JQ"
      },
      "outputs": [
        {
          "name": "stderr",
          "output_type": "stream",
          "text": [
            "/Users/olegkudrasev/opt/anaconda3/lib/python3.9/site-packages/pandas/io/sql.py:762: UserWarning:\n",
            "\n",
            "pandas only support SQLAlchemy connectable(engine/connection) ordatabase string URI or sqlite3 DBAPI2 connectionother DBAPI2 objects are not tested, please consider using SQLAlchemy\n",
            "\n"
          ]
        },
        {
          "data": {
            "text/html": [
              "<div>\n",
              "<style scoped>\n",
              "    .dataframe tbody tr th:only-of-type {\n",
              "        vertical-align: middle;\n",
              "    }\n",
              "\n",
              "    .dataframe tbody tr th {\n",
              "        vertical-align: top;\n",
              "    }\n",
              "\n",
              "    .dataframe thead th {\n",
              "        text-align: right;\n",
              "    }\n",
              "</style>\n",
              "<table border=\"1\" class=\"dataframe\">\n",
              "  <thead>\n",
              "    <tr style=\"text-align: right;\">\n",
              "      <th></th>\n",
              "      <th>schedule</th>\n",
              "      <th>employment</th>\n",
              "      <th>count</th>\n",
              "    </tr>\n",
              "  </thead>\n",
              "  <tbody>\n",
              "    <tr>\n",
              "      <th>0</th>\n",
              "      <td>Удаленная работа</td>\n",
              "      <td>Полная занятость</td>\n",
              "      <td>7802</td>\n",
              "    </tr>\n",
              "  </tbody>\n",
              "</table>\n",
              "</div>"
            ],
            "text/plain": [
              "           schedule        employment  count\n",
              "0  Удаленная работа  Полная занятость   7802"
            ]
          },
          "execution_count": 196,
          "metadata": {},
          "output_type": "execute_result"
        }
      ],
      "source": [
        "df_4_4 = pd.read_sql_query(query_4_4,connection)\n",
        "df_4_4"
      ]
    },
    {
      "attachments": {},
      "cell_type": "markdown",
      "id": "0136ffee-0ead-4a6b-b608-61d1c753a438",
      "metadata": {
        "id": "0136ffee-0ead-4a6b-b608-61d1c753a438"
      },
      "source": [
        "5. Напишите запрос, выводящий значения поля Требуемый опыт работы (experience) в порядке возрастания количества вакансий, в которых указан данный вариант опыта. "
      ]
    },
    {
      "cell_type": "code",
      "execution_count": 197,
      "id": "5b3a8e79-f7ab-4008-b767-12aea3a205ea",
      "metadata": {
        "id": "5b3a8e79-f7ab-4008-b767-12aea3a205ea"
      },
      "outputs": [],
      "source": [
        "query_4_5 = f'''select \n",
        "experience,\n",
        "count(id)\n",
        "from vacancies\n",
        "where experience is not null\n",
        "group by experience\n",
        "order by count(id)\n",
        "'''"
      ]
    },
    {
      "cell_type": "code",
      "execution_count": 198,
      "id": "3Is64Y-hpDpq",
      "metadata": {
        "id": "3Is64Y-hpDpq"
      },
      "outputs": [
        {
          "name": "stderr",
          "output_type": "stream",
          "text": [
            "/Users/olegkudrasev/opt/anaconda3/lib/python3.9/site-packages/pandas/io/sql.py:762: UserWarning:\n",
            "\n",
            "pandas only support SQLAlchemy connectable(engine/connection) ordatabase string URI or sqlite3 DBAPI2 connectionother DBAPI2 objects are not tested, please consider using SQLAlchemy\n",
            "\n"
          ]
        },
        {
          "data": {
            "text/html": [
              "<div>\n",
              "<style scoped>\n",
              "    .dataframe tbody tr th:only-of-type {\n",
              "        vertical-align: middle;\n",
              "    }\n",
              "\n",
              "    .dataframe tbody tr th {\n",
              "        vertical-align: top;\n",
              "    }\n",
              "\n",
              "    .dataframe thead th {\n",
              "        text-align: right;\n",
              "    }\n",
              "</style>\n",
              "<table border=\"1\" class=\"dataframe\">\n",
              "  <thead>\n",
              "    <tr style=\"text-align: right;\">\n",
              "      <th></th>\n",
              "      <th>experience</th>\n",
              "      <th>count</th>\n",
              "    </tr>\n",
              "  </thead>\n",
              "  <tbody>\n",
              "    <tr>\n",
              "      <th>0</th>\n",
              "      <td>Более 6 лет</td>\n",
              "      <td>1337</td>\n",
              "    </tr>\n",
              "    <tr>\n",
              "      <th>1</th>\n",
              "      <td>Нет опыта</td>\n",
              "      <td>7197</td>\n",
              "    </tr>\n",
              "    <tr>\n",
              "      <th>2</th>\n",
              "      <td>От 3 до 6 лет</td>\n",
              "      <td>14511</td>\n",
              "    </tr>\n",
              "    <tr>\n",
              "      <th>3</th>\n",
              "      <td>От 1 года до 3 лет</td>\n",
              "      <td>26152</td>\n",
              "    </tr>\n",
              "  </tbody>\n",
              "</table>\n",
              "</div>"
            ],
            "text/plain": [
              "           experience  count\n",
              "0         Более 6 лет   1337\n",
              "1           Нет опыта   7197\n",
              "2       От 3 до 6 лет  14511\n",
              "3  От 1 года до 3 лет  26152"
            ]
          },
          "execution_count": 198,
          "metadata": {},
          "output_type": "execute_result"
        }
      ],
      "source": [
        "df_4_5 = pd.read_sql_query(query_4_5,connection)\n",
        "df_4_5"
      ]
    },
    {
      "cell_type": "code",
      "execution_count": 199,
      "id": "11935211",
      "metadata": {},
      "outputs": [
        {
          "data": {
            "application/vnd.plotly.v1+json": {
              "config": {
                "plotlyServerURL": "https://plot.ly"
              },
              "data": [
                {
                  "alignmentgroup": "True",
                  "hovertemplate": "experience=%{x}<br>count=%{y}<extra></extra>",
                  "legendgroup": "",
                  "marker": {
                    "color": "#636efa",
                    "pattern": {
                      "shape": ""
                    }
                  },
                  "name": "",
                  "offsetgroup": "",
                  "orientation": "v",
                  "showlegend": false,
                  "textposition": "auto",
                  "type": "bar",
                  "x": [
                    "Более 6 лет",
                    "Нет опыта",
                    "От 3 до 6 лет",
                    "От 1 года до 3 лет"
                  ],
                  "xaxis": "x",
                  "y": [
                    1337,
                    7197,
                    14511,
                    26152
                  ],
                  "yaxis": "y"
                }
              ],
              "layout": {
                "barmode": "relative",
                "legend": {
                  "tracegroupgap": 0
                },
                "template": {
                  "data": {
                    "bar": [
                      {
                        "error_x": {
                          "color": "#2a3f5f"
                        },
                        "error_y": {
                          "color": "#2a3f5f"
                        },
                        "marker": {
                          "line": {
                            "color": "#E5ECF6",
                            "width": 0.5
                          },
                          "pattern": {
                            "fillmode": "overlay",
                            "size": 10,
                            "solidity": 0.2
                          }
                        },
                        "type": "bar"
                      }
                    ],
                    "barpolar": [
                      {
                        "marker": {
                          "line": {
                            "color": "#E5ECF6",
                            "width": 0.5
                          },
                          "pattern": {
                            "fillmode": "overlay",
                            "size": 10,
                            "solidity": 0.2
                          }
                        },
                        "type": "barpolar"
                      }
                    ],
                    "carpet": [
                      {
                        "aaxis": {
                          "endlinecolor": "#2a3f5f",
                          "gridcolor": "white",
                          "linecolor": "white",
                          "minorgridcolor": "white",
                          "startlinecolor": "#2a3f5f"
                        },
                        "baxis": {
                          "endlinecolor": "#2a3f5f",
                          "gridcolor": "white",
                          "linecolor": "white",
                          "minorgridcolor": "white",
                          "startlinecolor": "#2a3f5f"
                        },
                        "type": "carpet"
                      }
                    ],
                    "choropleth": [
                      {
                        "colorbar": {
                          "outlinewidth": 0,
                          "ticks": ""
                        },
                        "type": "choropleth"
                      }
                    ],
                    "contour": [
                      {
                        "colorbar": {
                          "outlinewidth": 0,
                          "ticks": ""
                        },
                        "colorscale": [
                          [
                            0,
                            "#0d0887"
                          ],
                          [
                            0.1111111111111111,
                            "#46039f"
                          ],
                          [
                            0.2222222222222222,
                            "#7201a8"
                          ],
                          [
                            0.3333333333333333,
                            "#9c179e"
                          ],
                          [
                            0.4444444444444444,
                            "#bd3786"
                          ],
                          [
                            0.5555555555555556,
                            "#d8576b"
                          ],
                          [
                            0.6666666666666666,
                            "#ed7953"
                          ],
                          [
                            0.7777777777777778,
                            "#fb9f3a"
                          ],
                          [
                            0.8888888888888888,
                            "#fdca26"
                          ],
                          [
                            1,
                            "#f0f921"
                          ]
                        ],
                        "type": "contour"
                      }
                    ],
                    "contourcarpet": [
                      {
                        "colorbar": {
                          "outlinewidth": 0,
                          "ticks": ""
                        },
                        "type": "contourcarpet"
                      }
                    ],
                    "heatmap": [
                      {
                        "colorbar": {
                          "outlinewidth": 0,
                          "ticks": ""
                        },
                        "colorscale": [
                          [
                            0,
                            "#0d0887"
                          ],
                          [
                            0.1111111111111111,
                            "#46039f"
                          ],
                          [
                            0.2222222222222222,
                            "#7201a8"
                          ],
                          [
                            0.3333333333333333,
                            "#9c179e"
                          ],
                          [
                            0.4444444444444444,
                            "#bd3786"
                          ],
                          [
                            0.5555555555555556,
                            "#d8576b"
                          ],
                          [
                            0.6666666666666666,
                            "#ed7953"
                          ],
                          [
                            0.7777777777777778,
                            "#fb9f3a"
                          ],
                          [
                            0.8888888888888888,
                            "#fdca26"
                          ],
                          [
                            1,
                            "#f0f921"
                          ]
                        ],
                        "type": "heatmap"
                      }
                    ],
                    "heatmapgl": [
                      {
                        "colorbar": {
                          "outlinewidth": 0,
                          "ticks": ""
                        },
                        "colorscale": [
                          [
                            0,
                            "#0d0887"
                          ],
                          [
                            0.1111111111111111,
                            "#46039f"
                          ],
                          [
                            0.2222222222222222,
                            "#7201a8"
                          ],
                          [
                            0.3333333333333333,
                            "#9c179e"
                          ],
                          [
                            0.4444444444444444,
                            "#bd3786"
                          ],
                          [
                            0.5555555555555556,
                            "#d8576b"
                          ],
                          [
                            0.6666666666666666,
                            "#ed7953"
                          ],
                          [
                            0.7777777777777778,
                            "#fb9f3a"
                          ],
                          [
                            0.8888888888888888,
                            "#fdca26"
                          ],
                          [
                            1,
                            "#f0f921"
                          ]
                        ],
                        "type": "heatmapgl"
                      }
                    ],
                    "histogram": [
                      {
                        "marker": {
                          "pattern": {
                            "fillmode": "overlay",
                            "size": 10,
                            "solidity": 0.2
                          }
                        },
                        "type": "histogram"
                      }
                    ],
                    "histogram2d": [
                      {
                        "colorbar": {
                          "outlinewidth": 0,
                          "ticks": ""
                        },
                        "colorscale": [
                          [
                            0,
                            "#0d0887"
                          ],
                          [
                            0.1111111111111111,
                            "#46039f"
                          ],
                          [
                            0.2222222222222222,
                            "#7201a8"
                          ],
                          [
                            0.3333333333333333,
                            "#9c179e"
                          ],
                          [
                            0.4444444444444444,
                            "#bd3786"
                          ],
                          [
                            0.5555555555555556,
                            "#d8576b"
                          ],
                          [
                            0.6666666666666666,
                            "#ed7953"
                          ],
                          [
                            0.7777777777777778,
                            "#fb9f3a"
                          ],
                          [
                            0.8888888888888888,
                            "#fdca26"
                          ],
                          [
                            1,
                            "#f0f921"
                          ]
                        ],
                        "type": "histogram2d"
                      }
                    ],
                    "histogram2dcontour": [
                      {
                        "colorbar": {
                          "outlinewidth": 0,
                          "ticks": ""
                        },
                        "colorscale": [
                          [
                            0,
                            "#0d0887"
                          ],
                          [
                            0.1111111111111111,
                            "#46039f"
                          ],
                          [
                            0.2222222222222222,
                            "#7201a8"
                          ],
                          [
                            0.3333333333333333,
                            "#9c179e"
                          ],
                          [
                            0.4444444444444444,
                            "#bd3786"
                          ],
                          [
                            0.5555555555555556,
                            "#d8576b"
                          ],
                          [
                            0.6666666666666666,
                            "#ed7953"
                          ],
                          [
                            0.7777777777777778,
                            "#fb9f3a"
                          ],
                          [
                            0.8888888888888888,
                            "#fdca26"
                          ],
                          [
                            1,
                            "#f0f921"
                          ]
                        ],
                        "type": "histogram2dcontour"
                      }
                    ],
                    "mesh3d": [
                      {
                        "colorbar": {
                          "outlinewidth": 0,
                          "ticks": ""
                        },
                        "type": "mesh3d"
                      }
                    ],
                    "parcoords": [
                      {
                        "line": {
                          "colorbar": {
                            "outlinewidth": 0,
                            "ticks": ""
                          }
                        },
                        "type": "parcoords"
                      }
                    ],
                    "pie": [
                      {
                        "automargin": true,
                        "type": "pie"
                      }
                    ],
                    "scatter": [
                      {
                        "fillpattern": {
                          "fillmode": "overlay",
                          "size": 10,
                          "solidity": 0.2
                        },
                        "type": "scatter"
                      }
                    ],
                    "scatter3d": [
                      {
                        "line": {
                          "colorbar": {
                            "outlinewidth": 0,
                            "ticks": ""
                          }
                        },
                        "marker": {
                          "colorbar": {
                            "outlinewidth": 0,
                            "ticks": ""
                          }
                        },
                        "type": "scatter3d"
                      }
                    ],
                    "scattercarpet": [
                      {
                        "marker": {
                          "colorbar": {
                            "outlinewidth": 0,
                            "ticks": ""
                          }
                        },
                        "type": "scattercarpet"
                      }
                    ],
                    "scattergeo": [
                      {
                        "marker": {
                          "colorbar": {
                            "outlinewidth": 0,
                            "ticks": ""
                          }
                        },
                        "type": "scattergeo"
                      }
                    ],
                    "scattergl": [
                      {
                        "marker": {
                          "colorbar": {
                            "outlinewidth": 0,
                            "ticks": ""
                          }
                        },
                        "type": "scattergl"
                      }
                    ],
                    "scattermapbox": [
                      {
                        "marker": {
                          "colorbar": {
                            "outlinewidth": 0,
                            "ticks": ""
                          }
                        },
                        "type": "scattermapbox"
                      }
                    ],
                    "scatterpolar": [
                      {
                        "marker": {
                          "colorbar": {
                            "outlinewidth": 0,
                            "ticks": ""
                          }
                        },
                        "type": "scatterpolar"
                      }
                    ],
                    "scatterpolargl": [
                      {
                        "marker": {
                          "colorbar": {
                            "outlinewidth": 0,
                            "ticks": ""
                          }
                        },
                        "type": "scatterpolargl"
                      }
                    ],
                    "scatterternary": [
                      {
                        "marker": {
                          "colorbar": {
                            "outlinewidth": 0,
                            "ticks": ""
                          }
                        },
                        "type": "scatterternary"
                      }
                    ],
                    "surface": [
                      {
                        "colorbar": {
                          "outlinewidth": 0,
                          "ticks": ""
                        },
                        "colorscale": [
                          [
                            0,
                            "#0d0887"
                          ],
                          [
                            0.1111111111111111,
                            "#46039f"
                          ],
                          [
                            0.2222222222222222,
                            "#7201a8"
                          ],
                          [
                            0.3333333333333333,
                            "#9c179e"
                          ],
                          [
                            0.4444444444444444,
                            "#bd3786"
                          ],
                          [
                            0.5555555555555556,
                            "#d8576b"
                          ],
                          [
                            0.6666666666666666,
                            "#ed7953"
                          ],
                          [
                            0.7777777777777778,
                            "#fb9f3a"
                          ],
                          [
                            0.8888888888888888,
                            "#fdca26"
                          ],
                          [
                            1,
                            "#f0f921"
                          ]
                        ],
                        "type": "surface"
                      }
                    ],
                    "table": [
                      {
                        "cells": {
                          "fill": {
                            "color": "#EBF0F8"
                          },
                          "line": {
                            "color": "white"
                          }
                        },
                        "header": {
                          "fill": {
                            "color": "#C8D4E3"
                          },
                          "line": {
                            "color": "white"
                          }
                        },
                        "type": "table"
                      }
                    ]
                  },
                  "layout": {
                    "annotationdefaults": {
                      "arrowcolor": "#2a3f5f",
                      "arrowhead": 0,
                      "arrowwidth": 1
                    },
                    "autotypenumbers": "strict",
                    "coloraxis": {
                      "colorbar": {
                        "outlinewidth": 0,
                        "ticks": ""
                      }
                    },
                    "colorscale": {
                      "diverging": [
                        [
                          0,
                          "#8e0152"
                        ],
                        [
                          0.1,
                          "#c51b7d"
                        ],
                        [
                          0.2,
                          "#de77ae"
                        ],
                        [
                          0.3,
                          "#f1b6da"
                        ],
                        [
                          0.4,
                          "#fde0ef"
                        ],
                        [
                          0.5,
                          "#f7f7f7"
                        ],
                        [
                          0.6,
                          "#e6f5d0"
                        ],
                        [
                          0.7,
                          "#b8e186"
                        ],
                        [
                          0.8,
                          "#7fbc41"
                        ],
                        [
                          0.9,
                          "#4d9221"
                        ],
                        [
                          1,
                          "#276419"
                        ]
                      ],
                      "sequential": [
                        [
                          0,
                          "#0d0887"
                        ],
                        [
                          0.1111111111111111,
                          "#46039f"
                        ],
                        [
                          0.2222222222222222,
                          "#7201a8"
                        ],
                        [
                          0.3333333333333333,
                          "#9c179e"
                        ],
                        [
                          0.4444444444444444,
                          "#bd3786"
                        ],
                        [
                          0.5555555555555556,
                          "#d8576b"
                        ],
                        [
                          0.6666666666666666,
                          "#ed7953"
                        ],
                        [
                          0.7777777777777778,
                          "#fb9f3a"
                        ],
                        [
                          0.8888888888888888,
                          "#fdca26"
                        ],
                        [
                          1,
                          "#f0f921"
                        ]
                      ],
                      "sequentialminus": [
                        [
                          0,
                          "#0d0887"
                        ],
                        [
                          0.1111111111111111,
                          "#46039f"
                        ],
                        [
                          0.2222222222222222,
                          "#7201a8"
                        ],
                        [
                          0.3333333333333333,
                          "#9c179e"
                        ],
                        [
                          0.4444444444444444,
                          "#bd3786"
                        ],
                        [
                          0.5555555555555556,
                          "#d8576b"
                        ],
                        [
                          0.6666666666666666,
                          "#ed7953"
                        ],
                        [
                          0.7777777777777778,
                          "#fb9f3a"
                        ],
                        [
                          0.8888888888888888,
                          "#fdca26"
                        ],
                        [
                          1,
                          "#f0f921"
                        ]
                      ]
                    },
                    "colorway": [
                      "#636efa",
                      "#EF553B",
                      "#00cc96",
                      "#ab63fa",
                      "#FFA15A",
                      "#19d3f3",
                      "#FF6692",
                      "#B6E880",
                      "#FF97FF",
                      "#FECB52"
                    ],
                    "font": {
                      "color": "#2a3f5f"
                    },
                    "geo": {
                      "bgcolor": "white",
                      "lakecolor": "white",
                      "landcolor": "#E5ECF6",
                      "showlakes": true,
                      "showland": true,
                      "subunitcolor": "white"
                    },
                    "hoverlabel": {
                      "align": "left"
                    },
                    "hovermode": "closest",
                    "mapbox": {
                      "style": "light"
                    },
                    "paper_bgcolor": "white",
                    "plot_bgcolor": "#E5ECF6",
                    "polar": {
                      "angularaxis": {
                        "gridcolor": "white",
                        "linecolor": "white",
                        "ticks": ""
                      },
                      "bgcolor": "#E5ECF6",
                      "radialaxis": {
                        "gridcolor": "white",
                        "linecolor": "white",
                        "ticks": ""
                      }
                    },
                    "scene": {
                      "xaxis": {
                        "backgroundcolor": "#E5ECF6",
                        "gridcolor": "white",
                        "gridwidth": 2,
                        "linecolor": "white",
                        "showbackground": true,
                        "ticks": "",
                        "zerolinecolor": "white"
                      },
                      "yaxis": {
                        "backgroundcolor": "#E5ECF6",
                        "gridcolor": "white",
                        "gridwidth": 2,
                        "linecolor": "white",
                        "showbackground": true,
                        "ticks": "",
                        "zerolinecolor": "white"
                      },
                      "zaxis": {
                        "backgroundcolor": "#E5ECF6",
                        "gridcolor": "white",
                        "gridwidth": 2,
                        "linecolor": "white",
                        "showbackground": true,
                        "ticks": "",
                        "zerolinecolor": "white"
                      }
                    },
                    "shapedefaults": {
                      "line": {
                        "color": "#2a3f5f"
                      }
                    },
                    "ternary": {
                      "aaxis": {
                        "gridcolor": "white",
                        "linecolor": "white",
                        "ticks": ""
                      },
                      "baxis": {
                        "gridcolor": "white",
                        "linecolor": "white",
                        "ticks": ""
                      },
                      "bgcolor": "#E5ECF6",
                      "caxis": {
                        "gridcolor": "white",
                        "linecolor": "white",
                        "ticks": ""
                      }
                    },
                    "title": {
                      "x": 0.05
                    },
                    "xaxis": {
                      "automargin": true,
                      "gridcolor": "white",
                      "linecolor": "white",
                      "ticks": "",
                      "title": {
                        "standoff": 15
                      },
                      "zerolinecolor": "white",
                      "zerolinewidth": 2
                    },
                    "yaxis": {
                      "automargin": true,
                      "gridcolor": "white",
                      "linecolor": "white",
                      "ticks": "",
                      "title": {
                        "standoff": 15
                      },
                      "zerolinecolor": "white",
                      "zerolinewidth": 2
                    }
                  }
                },
                "title": {
                  "text": "График количества вакансий от опыта"
                },
                "xaxis": {
                  "anchor": "y",
                  "domain": [
                    0,
                    1
                  ],
                  "title": {
                    "text": "Опыт"
                  }
                },
                "yaxis": {
                  "anchor": "x",
                  "domain": [
                    0,
                    1
                  ],
                  "title": {
                    "text": "Количество вакансий"
                  }
                }
              }
            }
          },
          "metadata": {},
          "output_type": "display_data"
        }
      ],
      "source": [
        "bar_4_5 = px.bar(df_4_5,'experience','count',title='График количества вакансий от опыта')\n",
        "bar_4_5.update_layout(\n",
        "    xaxis_title= 'Опыт',\n",
        "    yaxis_title = 'Количество вакансий'\n",
        ")\n",
        "bar_4_5.write_html('plots/bar_4_5.html')\n",
        "display(bar_4_5)"
      ]
    },
    {
      "attachments": {},
      "cell_type": "markdown",
      "id": "oq2b7n1QpIka",
      "metadata": {
        "id": "oq2b7n1QpIka"
      },
      "source": [
        "***"
      ]
    },
    {
      "attachments": {},
      "cell_type": "markdown",
      "id": "facdc61d",
      "metadata": {},
      "source": [
        "1. В первой пятерке по количеству вакансий располагаются столица и города - милионники России и столицы Белорусии и Казахстана.\n",
        "2. Только у половины соискателей указана желаемая ЗП.\n",
        "3. В среднем работодатели готовы платить от 70 до 110 тыс.руб.(данные могут быть искажены из-за разных валют)\n",
        "4. Соискатели чаще ищут удаленую работу с полной занятостью.\n",
        "5. Работодатели чаще ищут людей с опытом менее 6 лет.\n"
      ]
    },
    {
      "attachments": {},
      "cell_type": "markdown",
      "id": "7ea20ab6-04a7-40a0-adec-443a0e5a42c3",
      "metadata": {
        "id": "7ea20ab6-04a7-40a0-adec-443a0e5a42c3"
      },
      "source": [
        "# Юнит 5. Анализ работодателей"
      ]
    },
    {
      "attachments": {},
      "cell_type": "markdown",
      "id": "968aed80-74ef-4ffb-b5bf-c65b84e9caea",
      "metadata": {
        "id": "968aed80-74ef-4ffb-b5bf-c65b84e9caea"
      },
      "source": [
        "1. Напишите запрос, который позволит узнать, какие работодатели находятся на первом и пятом месте по количеству вакансий."
      ]
    },
    {
      "cell_type": "code",
      "execution_count": 200,
      "id": "f2d62796-d400-4ec1-a675-88112739a50e",
      "metadata": {
        "id": "f2d62796-d400-4ec1-a675-88112739a50e"
      },
      "outputs": [],
      "source": [
        "query_5_1 = f'''(select\n",
        "e.name,\n",
        "count(v.id) cnt\n",
        "from employers e\n",
        "join vacancies v on e.id = v.employer_id\n",
        "group by e.name\n",
        "order by count(v.id) desc\n",
        "limit 1)\n",
        "union \n",
        "(select\n",
        "e.name,\n",
        "count(v.id)\n",
        "from employers e\n",
        "join vacancies v on e.id = v.employer_id\n",
        "group by e.name\n",
        "order by count(v.id) desc\n",
        "offset 4 limit 1)\n",
        "order by cnt desc\n",
        "'''"
      ]
    },
    {
      "cell_type": "code",
      "execution_count": 201,
      "id": "64tOMkAxqkQk",
      "metadata": {
        "id": "64tOMkAxqkQk"
      },
      "outputs": [
        {
          "name": "stderr",
          "output_type": "stream",
          "text": [
            "/Users/olegkudrasev/opt/anaconda3/lib/python3.9/site-packages/pandas/io/sql.py:762: UserWarning:\n",
            "\n",
            "pandas only support SQLAlchemy connectable(engine/connection) ordatabase string URI or sqlite3 DBAPI2 connectionother DBAPI2 objects are not tested, please consider using SQLAlchemy\n",
            "\n"
          ]
        },
        {
          "data": {
            "text/html": [
              "<div>\n",
              "<style scoped>\n",
              "    .dataframe tbody tr th:only-of-type {\n",
              "        vertical-align: middle;\n",
              "    }\n",
              "\n",
              "    .dataframe tbody tr th {\n",
              "        vertical-align: top;\n",
              "    }\n",
              "\n",
              "    .dataframe thead th {\n",
              "        text-align: right;\n",
              "    }\n",
              "</style>\n",
              "<table border=\"1\" class=\"dataframe\">\n",
              "  <thead>\n",
              "    <tr style=\"text-align: right;\">\n",
              "      <th></th>\n",
              "      <th>name</th>\n",
              "      <th>cnt</th>\n",
              "    </tr>\n",
              "  </thead>\n",
              "  <tbody>\n",
              "    <tr>\n",
              "      <th>0</th>\n",
              "      <td>Яндекс</td>\n",
              "      <td>1933</td>\n",
              "    </tr>\n",
              "    <tr>\n",
              "      <th>1</th>\n",
              "      <td>Газпром нефть</td>\n",
              "      <td>331</td>\n",
              "    </tr>\n",
              "  </tbody>\n",
              "</table>\n",
              "</div>"
            ],
            "text/plain": [
              "            name   cnt\n",
              "0         Яндекс  1933\n",
              "1  Газпром нефть   331"
            ]
          },
          "execution_count": 201,
          "metadata": {},
          "output_type": "execute_result"
        }
      ],
      "source": [
        "df_5_1  =  pd. read_sql_query(query_5_1,connection)\n",
        "df_5_1"
      ]
    },
    {
      "attachments": {},
      "cell_type": "markdown",
      "id": "68377cfc-b378-43dc-ab7d-1195abf2c515",
      "metadata": {
        "id": "68377cfc-b378-43dc-ab7d-1195abf2c515"
      },
      "source": [
        "2. Напишите запрос, который для каждого региона выведет количество работодателей и вакансий в нём.\n",
        "Среди регионов, в которых нет вакансий, найдите тот, в котором наибольшее количество работодателей.\n"
      ]
    },
    {
      "cell_type": "code",
      "execution_count": 202,
      "id": "dd7df27a-e3e8-412e-a21a-5d389b71e891",
      "metadata": {
        "id": "dd7df27a-e3e8-412e-a21a-5d389b71e891"
      },
      "outputs": [],
      "source": [
        "query_5_2 = f'''select\n",
        "a.name ar,\n",
        "count(v.id) cnt,\n",
        "count(e.id) emp\n",
        "from areas a\n",
        "left join vacancies v on a.id = v.area_id\n",
        "join employers e on a.id = e.area\n",
        "group by a.name \n",
        "having count(v.id) = 0\n",
        "order by emp desc\n",
        "'''"
      ]
    },
    {
      "cell_type": "code",
      "execution_count": 203,
      "id": "x1ikWbydrbf6",
      "metadata": {
        "id": "x1ikWbydrbf6"
      },
      "outputs": [
        {
          "name": "stderr",
          "output_type": "stream",
          "text": [
            "/Users/olegkudrasev/opt/anaconda3/lib/python3.9/site-packages/pandas/io/sql.py:762: UserWarning:\n",
            "\n",
            "pandas only support SQLAlchemy connectable(engine/connection) ordatabase string URI or sqlite3 DBAPI2 connectionother DBAPI2 objects are not tested, please consider using SQLAlchemy\n",
            "\n"
          ]
        },
        {
          "data": {
            "text/html": [
              "<div>\n",
              "<style scoped>\n",
              "    .dataframe tbody tr th:only-of-type {\n",
              "        vertical-align: middle;\n",
              "    }\n",
              "\n",
              "    .dataframe tbody tr th {\n",
              "        vertical-align: top;\n",
              "    }\n",
              "\n",
              "    .dataframe thead th {\n",
              "        text-align: right;\n",
              "    }\n",
              "</style>\n",
              "<table border=\"1\" class=\"dataframe\">\n",
              "  <thead>\n",
              "    <tr style=\"text-align: right;\">\n",
              "      <th></th>\n",
              "      <th>ar</th>\n",
              "      <th>cnt</th>\n",
              "      <th>emp</th>\n",
              "    </tr>\n",
              "  </thead>\n",
              "  <tbody>\n",
              "    <tr>\n",
              "      <th>0</th>\n",
              "      <td>Россия</td>\n",
              "      <td>0</td>\n",
              "      <td>410</td>\n",
              "    </tr>\n",
              "    <tr>\n",
              "      <th>1</th>\n",
              "      <td>Казахстан</td>\n",
              "      <td>0</td>\n",
              "      <td>207</td>\n",
              "    </tr>\n",
              "    <tr>\n",
              "      <th>2</th>\n",
              "      <td>Московская область</td>\n",
              "      <td>0</td>\n",
              "      <td>75</td>\n",
              "    </tr>\n",
              "    <tr>\n",
              "      <th>3</th>\n",
              "      <td>Краснодарский край</td>\n",
              "      <td>0</td>\n",
              "      <td>19</td>\n",
              "    </tr>\n",
              "    <tr>\n",
              "      <th>4</th>\n",
              "      <td>Беларусь</td>\n",
              "      <td>0</td>\n",
              "      <td>18</td>\n",
              "    </tr>\n",
              "    <tr>\n",
              "      <th>...</th>\n",
              "      <td>...</td>\n",
              "      <td>...</td>\n",
              "      <td>...</td>\n",
              "    </tr>\n",
              "    <tr>\n",
              "      <th>181</th>\n",
              "      <td>Удобная</td>\n",
              "      <td>0</td>\n",
              "      <td>1</td>\n",
              "    </tr>\n",
              "    <tr>\n",
              "      <th>182</th>\n",
              "      <td>Майна (Ульяновская область)</td>\n",
              "      <td>0</td>\n",
              "      <td>1</td>\n",
              "    </tr>\n",
              "    <tr>\n",
              "      <th>183</th>\n",
              "      <td>Верхнетуломский</td>\n",
              "      <td>0</td>\n",
              "      <td>1</td>\n",
              "    </tr>\n",
              "    <tr>\n",
              "      <th>184</th>\n",
              "      <td>Жаркент</td>\n",
              "      <td>0</td>\n",
              "      <td>1</td>\n",
              "    </tr>\n",
              "    <tr>\n",
              "      <th>185</th>\n",
              "      <td>Михайловка (Уфимский район, Башкортостан)</td>\n",
              "      <td>0</td>\n",
              "      <td>1</td>\n",
              "    </tr>\n",
              "  </tbody>\n",
              "</table>\n",
              "<p>186 rows × 3 columns</p>\n",
              "</div>"
            ],
            "text/plain": [
              "                                            ar  cnt  emp\n",
              "0                                       Россия    0  410\n",
              "1                                    Казахстан    0  207\n",
              "2                           Московская область    0   75\n",
              "3                           Краснодарский край    0   19\n",
              "4                                     Беларусь    0   18\n",
              "..                                         ...  ...  ...\n",
              "181                                    Удобная    0    1\n",
              "182                Майна (Ульяновская область)    0    1\n",
              "183                            Верхнетуломский    0    1\n",
              "184                                    Жаркент    0    1\n",
              "185  Михайловка (Уфимский район, Башкортостан)    0    1\n",
              "\n",
              "[186 rows x 3 columns]"
            ]
          },
          "execution_count": 203,
          "metadata": {},
          "output_type": "execute_result"
        }
      ],
      "source": [
        "df_5_2  =  pd. read_sql_query(query_5_2,connection)\n",
        "df_5_2"
      ]
    },
    {
      "attachments": {},
      "cell_type": "markdown",
      "id": "f2fe0acb-ab1a-4e15-9326-2560e22d73c1",
      "metadata": {
        "id": "f2fe0acb-ab1a-4e15-9326-2560e22d73c1"
      },
      "source": [
        "3. Для каждого работодателя посчитайте количество регионов, в которых он публикует свои вакансии. Отсортируйте результат по убыванию количества.\n"
      ]
    },
    {
      "cell_type": "code",
      "execution_count": 204,
      "id": "6271f8ad-bd2e-4196-ae4a-5b39c4c1010e",
      "metadata": {
        "id": "6271f8ad-bd2e-4196-ae4a-5b39c4c1010e"
      },
      "outputs": [],
      "source": [
        "query_5_3 = f'''select\n",
        "e.name,\n",
        "count(distinct v.area_id)\n",
        "from employers e\n",
        "join vacancies v on e.id = v.employer_id\n",
        "group by e.name\n",
        "order by count(distinct v.area_id) desc\n",
        "'''"
      ]
    },
    {
      "cell_type": "code",
      "execution_count": 205,
      "id": "1EIvX3HasH4F",
      "metadata": {
        "id": "1EIvX3HasH4F"
      },
      "outputs": [
        {
          "name": "stderr",
          "output_type": "stream",
          "text": [
            "/Users/olegkudrasev/opt/anaconda3/lib/python3.9/site-packages/pandas/io/sql.py:762: UserWarning:\n",
            "\n",
            "pandas only support SQLAlchemy connectable(engine/connection) ordatabase string URI or sqlite3 DBAPI2 connectionother DBAPI2 objects are not tested, please consider using SQLAlchemy\n",
            "\n"
          ]
        },
        {
          "data": {
            "text/html": [
              "<div>\n",
              "<style scoped>\n",
              "    .dataframe tbody tr th:only-of-type {\n",
              "        vertical-align: middle;\n",
              "    }\n",
              "\n",
              "    .dataframe tbody tr th {\n",
              "        vertical-align: top;\n",
              "    }\n",
              "\n",
              "    .dataframe thead th {\n",
              "        text-align: right;\n",
              "    }\n",
              "</style>\n",
              "<table border=\"1\" class=\"dataframe\">\n",
              "  <thead>\n",
              "    <tr style=\"text-align: right;\">\n",
              "      <th></th>\n",
              "      <th>name</th>\n",
              "      <th>count</th>\n",
              "    </tr>\n",
              "  </thead>\n",
              "  <tbody>\n",
              "    <tr>\n",
              "      <th>0</th>\n",
              "      <td>Яндекс</td>\n",
              "      <td>181</td>\n",
              "    </tr>\n",
              "    <tr>\n",
              "      <th>1</th>\n",
              "      <td>Ростелеком</td>\n",
              "      <td>152</td>\n",
              "    </tr>\n",
              "    <tr>\n",
              "      <th>2</th>\n",
              "      <td>Спецремонт</td>\n",
              "      <td>116</td>\n",
              "    </tr>\n",
              "    <tr>\n",
              "      <th>3</th>\n",
              "      <td>Поляков Денис Иванович</td>\n",
              "      <td>88</td>\n",
              "    </tr>\n",
              "    <tr>\n",
              "      <th>4</th>\n",
              "      <td>ООО ЕФИН</td>\n",
              "      <td>71</td>\n",
              "    </tr>\n",
              "    <tr>\n",
              "      <th>...</th>\n",
              "      <td>...</td>\n",
              "      <td>...</td>\n",
              "    </tr>\n",
              "    <tr>\n",
              "      <th>14761</th>\n",
              "      <td>UniSol</td>\n",
              "      <td>1</td>\n",
              "    </tr>\n",
              "    <tr>\n",
              "      <th>14762</th>\n",
              "      <td>UNISTORY LLC</td>\n",
              "      <td>1</td>\n",
              "    </tr>\n",
              "    <tr>\n",
              "      <th>14763</th>\n",
              "      <td>UNIT6</td>\n",
              "      <td>1</td>\n",
              "    </tr>\n",
              "    <tr>\n",
              "      <th>14764</th>\n",
              "      <td>United Distribution</td>\n",
              "      <td>1</td>\n",
              "    </tr>\n",
              "    <tr>\n",
              "      <th>14765</th>\n",
              "      <td>UNITEL LLC</td>\n",
              "      <td>1</td>\n",
              "    </tr>\n",
              "  </tbody>\n",
              "</table>\n",
              "<p>14766 rows × 2 columns</p>\n",
              "</div>"
            ],
            "text/plain": [
              "                         name  count\n",
              "0                      Яндекс    181\n",
              "1                  Ростелеком    152\n",
              "2                  Спецремонт    116\n",
              "3      Поляков Денис Иванович     88\n",
              "4                   ООО ЕФИН      71\n",
              "...                       ...    ...\n",
              "14761                  UniSol      1\n",
              "14762            UNISTORY LLC      1\n",
              "14763                   UNIT6      1\n",
              "14764     United Distribution      1\n",
              "14765              UNITEL LLC      1\n",
              "\n",
              "[14766 rows x 2 columns]"
            ]
          },
          "execution_count": 205,
          "metadata": {},
          "output_type": "execute_result"
        }
      ],
      "source": [
        "df  =  pd. read_sql_query(query_5_3,connection)\n",
        "df"
      ]
    },
    {
      "attachments": {},
      "cell_type": "markdown",
      "id": "eab2206d-d95b-468b-8e5f-34381abf0ce7",
      "metadata": {
        "id": "eab2206d-d95b-468b-8e5f-34381abf0ce7"
      },
      "source": [
        "4. Напишите запрос для подсчёта количества работодателей, у которых не указана сфера деятельности. "
      ]
    },
    {
      "cell_type": "code",
      "execution_count": 206,
      "id": "80defb23-bfb1-4a18-8be6-bf36aa7165d5",
      "metadata": {
        "id": "80defb23-bfb1-4a18-8be6-bf36aa7165d5"
      },
      "outputs": [],
      "source": [
        "query_5_4 = f'''select \n",
        "count(e.name)\n",
        "from employers e\n",
        "left join employers_industries ei on e.id = ei.employer_id\n",
        "where industry_id is null\n",
        "'''"
      ]
    },
    {
      "cell_type": "code",
      "execution_count": 207,
      "id": "Dp_yCx6ysQSu",
      "metadata": {
        "id": "Dp_yCx6ysQSu"
      },
      "outputs": [
        {
          "name": "stderr",
          "output_type": "stream",
          "text": [
            "/Users/olegkudrasev/opt/anaconda3/lib/python3.9/site-packages/pandas/io/sql.py:762: UserWarning:\n",
            "\n",
            "pandas only support SQLAlchemy connectable(engine/connection) ordatabase string URI or sqlite3 DBAPI2 connectionother DBAPI2 objects are not tested, please consider using SQLAlchemy\n",
            "\n"
          ]
        },
        {
          "data": {
            "text/html": [
              "<div>\n",
              "<style scoped>\n",
              "    .dataframe tbody tr th:only-of-type {\n",
              "        vertical-align: middle;\n",
              "    }\n",
              "\n",
              "    .dataframe tbody tr th {\n",
              "        vertical-align: top;\n",
              "    }\n",
              "\n",
              "    .dataframe thead th {\n",
              "        text-align: right;\n",
              "    }\n",
              "</style>\n",
              "<table border=\"1\" class=\"dataframe\">\n",
              "  <thead>\n",
              "    <tr style=\"text-align: right;\">\n",
              "      <th></th>\n",
              "      <th>count</th>\n",
              "    </tr>\n",
              "  </thead>\n",
              "  <tbody>\n",
              "    <tr>\n",
              "      <th>0</th>\n",
              "      <td>8419</td>\n",
              "    </tr>\n",
              "  </tbody>\n",
              "</table>\n",
              "</div>"
            ],
            "text/plain": [
              "   count\n",
              "0   8419"
            ]
          },
          "execution_count": 207,
          "metadata": {},
          "output_type": "execute_result"
        }
      ],
      "source": [
        "df_5_4 =  pd. read_sql_query(query_5_4,connection)\n",
        "df_5_4"
      ]
    },
    {
      "attachments": {},
      "cell_type": "markdown",
      "id": "0112af31-f6b0-4e3b-82ab-71296e752e5e",
      "metadata": {
        "id": "0112af31-f6b0-4e3b-82ab-71296e752e5e"
      },
      "source": [
        "5. Напишите запрос, чтобы узнать название компании, находящейся на третьем месте в алфавитном списке (по названию) компаний, у которых указано четыре сферы деятельности. "
      ]
    },
    {
      "cell_type": "code",
      "execution_count": 208,
      "id": "973b0cfc-a972-470a-8b4a-68744ef220c4",
      "metadata": {
        "id": "973b0cfc-a972-470a-8b4a-68744ef220c4"
      },
      "outputs": [],
      "source": [
        "query_5_5 = f'''select \n",
        "e.name\n",
        "from employers e\n",
        "left join employers_industries ei on e.id = ei.employer_id\n",
        "where industry_id is not null\n",
        "group by e.id\n",
        "having count(ei.industry_id) = 4\n",
        "order by e.name\n",
        "offset 2 limit 1 \n",
        "'''"
      ]
    },
    {
      "cell_type": "code",
      "execution_count": 209,
      "id": "xsPtpp8EsaED",
      "metadata": {
        "id": "xsPtpp8EsaED"
      },
      "outputs": [
        {
          "name": "stderr",
          "output_type": "stream",
          "text": [
            "/Users/olegkudrasev/opt/anaconda3/lib/python3.9/site-packages/pandas/io/sql.py:762: UserWarning:\n",
            "\n",
            "pandas only support SQLAlchemy connectable(engine/connection) ordatabase string URI or sqlite3 DBAPI2 connectionother DBAPI2 objects are not tested, please consider using SQLAlchemy\n",
            "\n"
          ]
        },
        {
          "data": {
            "text/html": [
              "<div>\n",
              "<style scoped>\n",
              "    .dataframe tbody tr th:only-of-type {\n",
              "        vertical-align: middle;\n",
              "    }\n",
              "\n",
              "    .dataframe tbody tr th {\n",
              "        vertical-align: top;\n",
              "    }\n",
              "\n",
              "    .dataframe thead th {\n",
              "        text-align: right;\n",
              "    }\n",
              "</style>\n",
              "<table border=\"1\" class=\"dataframe\">\n",
              "  <thead>\n",
              "    <tr style=\"text-align: right;\">\n",
              "      <th></th>\n",
              "      <th>name</th>\n",
              "    </tr>\n",
              "  </thead>\n",
              "  <tbody>\n",
              "    <tr>\n",
              "      <th>0</th>\n",
              "      <td>2ГИС</td>\n",
              "    </tr>\n",
              "  </tbody>\n",
              "</table>\n",
              "</div>"
            ],
            "text/plain": [
              "   name\n",
              "0  2ГИС"
            ]
          },
          "execution_count": 209,
          "metadata": {},
          "output_type": "execute_result"
        }
      ],
      "source": [
        "df_5_5  =  pd. read_sql_query(query_5_5,connection)\n",
        "df_5_5"
      ]
    },
    {
      "attachments": {},
      "cell_type": "markdown",
      "id": "3bfcfdaf-755d-4d2b-8ed8-326201dc07ab",
      "metadata": {
        "id": "3bfcfdaf-755d-4d2b-8ed8-326201dc07ab"
      },
      "source": [
        "6. С помощью запроса выясните, у какого количества работодателей в качестве сферы деятельности указана Разработка программного обеспечения.\n"
      ]
    },
    {
      "cell_type": "code",
      "execution_count": 210,
      "id": "ad3f270f-2991-47eb-929b-e8f88a55b0d1",
      "metadata": {
        "id": "ad3f270f-2991-47eb-929b-e8f88a55b0d1"
      },
      "outputs": [],
      "source": [
        "query_5_6 = f'''select \n",
        "count(distinct e.id)\n",
        "from employers e\n",
        "join employers_industries ei on e.id = ei.employer_id\n",
        "join industries i on ei.industry_id = i.id\n",
        "group by i.name\n",
        "having i.name = 'Разработка программного обеспечения'\n",
        "'''"
      ]
    },
    {
      "cell_type": "code",
      "execution_count": 211,
      "id": "H72qxWM0shPR",
      "metadata": {
        "id": "H72qxWM0shPR"
      },
      "outputs": [
        {
          "name": "stderr",
          "output_type": "stream",
          "text": [
            "/Users/olegkudrasev/opt/anaconda3/lib/python3.9/site-packages/pandas/io/sql.py:762: UserWarning:\n",
            "\n",
            "pandas only support SQLAlchemy connectable(engine/connection) ordatabase string URI or sqlite3 DBAPI2 connectionother DBAPI2 objects are not tested, please consider using SQLAlchemy\n",
            "\n"
          ]
        },
        {
          "data": {
            "text/html": [
              "<div>\n",
              "<style scoped>\n",
              "    .dataframe tbody tr th:only-of-type {\n",
              "        vertical-align: middle;\n",
              "    }\n",
              "\n",
              "    .dataframe tbody tr th {\n",
              "        vertical-align: top;\n",
              "    }\n",
              "\n",
              "    .dataframe thead th {\n",
              "        text-align: right;\n",
              "    }\n",
              "</style>\n",
              "<table border=\"1\" class=\"dataframe\">\n",
              "  <thead>\n",
              "    <tr style=\"text-align: right;\">\n",
              "      <th></th>\n",
              "      <th>count</th>\n",
              "    </tr>\n",
              "  </thead>\n",
              "  <tbody>\n",
              "    <tr>\n",
              "      <th>0</th>\n",
              "      <td>3553</td>\n",
              "    </tr>\n",
              "  </tbody>\n",
              "</table>\n",
              "</div>"
            ],
            "text/plain": [
              "   count\n",
              "0   3553"
            ]
          },
          "execution_count": 211,
          "metadata": {},
          "output_type": "execute_result"
        }
      ],
      "source": [
        "df_5_6  =  pd. read_sql_query(query_5_6,connection)\n",
        "df_5_6"
      ]
    },
    {
      "attachments": {},
      "cell_type": "markdown",
      "id": "7b02bb86-0546-40fb-94a4-242f050a5c57",
      "metadata": {
        "id": "7b02bb86-0546-40fb-94a4-242f050a5c57"
      },
      "source": [
        "7. Для компании «Яндекс» выведите список регионов-миллионников, в которых представлены вакансии компании, вместе с количеством вакансий в этих регионах. Также добавьте строку Total с общим количеством вакансий компании. Результат отсортируйте по возрастанию количества.\n",
        "\n",
        "Список городов-милионников надо взять [отсюда](https://ru.wikipedia.org/wiki/%D0%93%D0%BE%D1%80%D0%BE%D0%B4%D0%B0-%D0%BC%D0%B8%D0%BB%D0%BB%D0%B8%D0%BE%D0%BD%D0%B5%D1%80%D1%8B_%D0%A0%D0%BE%D1%81%D1%81%D0%B8%D0%B8). \n",
        "\n",
        "Если возникнут трудности с этим задание посмотрите материалы модуля  PYTHON-17. Как получать данные из веб-источников и API. "
      ]
    },
    {
      "cell_type": "code",
      "execution_count": 212,
      "id": "ZdfrL6gIs1Pn",
      "metadata": {
        "id": "ZdfrL6gIs1Pn"
      },
      "outputs": [
        {
          "name": "stdout",
          "output_type": "stream",
          "text": [
            "('Москва', 'Санкт-Петербург', 'Новосибирск', 'Екатеринбург', 'Казань', 'Нижний Новгород', 'Красноярск', 'Челябинск', 'Самара', 'Уфа', 'Ростов-на-Дону', 'Краснодар', 'Омск', 'Воронеж', 'Пермь', 'Волгоград')\n"
          ]
        }
      ],
      "source": [
        "import requests\n",
        "from pprint import pprint\n",
        "from bs4 import BeautifulSoup\n",
        "url = 'https://ru.wikipedia.org/wiki/%D0%93%D0%BE%D1%80%D0%BE%D0%B4%D0%B0-%D0%BC%D0%B8%D0%BB%D0%BB%D0%B8%D0%BE%D0%BD%D0%B5%D1%80%D1%8B_%D0%A0%D0%BE%D1%81%D1%81%D0%B8%D0%B8'\n",
        "responce = requests.get(url)\n",
        "page = BeautifulSoup(responce.text, 'html.parser')\n",
        "cities = page.find_all(['td'])\n",
        "cities_2 = list()\n",
        "for i in cities:\n",
        "    if i.find('a') is None:\n",
        "        continue\n",
        "    else:\n",
        "        cities_2.append(i.find('a').text)\n",
        "million_cities = tuple(cities_2[1:17])\n",
        "print(million_cities)\n",
        "\n"
      ]
    },
    {
      "cell_type": "code",
      "execution_count": 213,
      "id": "5a0e32a4-e68a-4365-8a39-2fe24c542c36",
      "metadata": {
        "id": "5a0e32a4-e68a-4365-8a39-2fe24c542c36"
      },
      "outputs": [],
      "source": [
        "query_5_7 = f'''(select \n",
        "a.name,\n",
        "count(v.name) cnt\n",
        "from vacancies v\n",
        "join employers e on e.id = v.employer_id\n",
        "join areas a on v.area_id = a.id\n",
        "where e.name = 'Яндекс' and a.name in {million_cities}\n",
        "group by a.name)\n",
        "union \n",
        "(select \n",
        "'total',\n",
        "count(v.name)\n",
        "from vacancies v\n",
        "join employers e on e.id = v.employer_id\n",
        "join areas a on v.area_id = a.id\n",
        "where e.name = 'Яндекс' and a.name in ('Москва', 'Санкт-Петербург', 'Новосибирск', 'Екатеринбург', 'Казань', 'Нижний Новгород', 'Красноярск', 'Челябинск', 'Самара', 'Уфа', 'Ростов-на-Дону', 'Краснодар', 'Омск', 'Воронеж', 'Пермь', 'Волгоград')\n",
        ")\n",
        "order by cnt\n",
        "'''"
      ]
    },
    {
      "cell_type": "code",
      "execution_count": 214,
      "id": "ttPhiO1rsvPq",
      "metadata": {
        "id": "ttPhiO1rsvPq"
      },
      "outputs": [
        {
          "name": "stderr",
          "output_type": "stream",
          "text": [
            "/Users/olegkudrasev/opt/anaconda3/lib/python3.9/site-packages/pandas/io/sql.py:762: UserWarning:\n",
            "\n",
            "pandas only support SQLAlchemy connectable(engine/connection) ordatabase string URI or sqlite3 DBAPI2 connectionother DBAPI2 objects are not tested, please consider using SQLAlchemy\n",
            "\n"
          ]
        },
        {
          "data": {
            "text/html": [
              "<div>\n",
              "<style scoped>\n",
              "    .dataframe tbody tr th:only-of-type {\n",
              "        vertical-align: middle;\n",
              "    }\n",
              "\n",
              "    .dataframe tbody tr th {\n",
              "        vertical-align: top;\n",
              "    }\n",
              "\n",
              "    .dataframe thead th {\n",
              "        text-align: right;\n",
              "    }\n",
              "</style>\n",
              "<table border=\"1\" class=\"dataframe\">\n",
              "  <thead>\n",
              "    <tr style=\"text-align: right;\">\n",
              "      <th></th>\n",
              "      <th>name</th>\n",
              "      <th>cnt</th>\n",
              "    </tr>\n",
              "  </thead>\n",
              "  <tbody>\n",
              "    <tr>\n",
              "      <th>0</th>\n",
              "      <td>Омск</td>\n",
              "      <td>21</td>\n",
              "    </tr>\n",
              "    <tr>\n",
              "      <th>1</th>\n",
              "      <td>Челябинск</td>\n",
              "      <td>22</td>\n",
              "    </tr>\n",
              "    <tr>\n",
              "      <th>2</th>\n",
              "      <td>Красноярск</td>\n",
              "      <td>23</td>\n",
              "    </tr>\n",
              "    <tr>\n",
              "      <th>3</th>\n",
              "      <td>Волгоград</td>\n",
              "      <td>24</td>\n",
              "    </tr>\n",
              "    <tr>\n",
              "      <th>4</th>\n",
              "      <td>Пермь</td>\n",
              "      <td>25</td>\n",
              "    </tr>\n",
              "    <tr>\n",
              "      <th>5</th>\n",
              "      <td>Казань</td>\n",
              "      <td>25</td>\n",
              "    </tr>\n",
              "    <tr>\n",
              "      <th>6</th>\n",
              "      <td>Ростов-на-Дону</td>\n",
              "      <td>25</td>\n",
              "    </tr>\n",
              "    <tr>\n",
              "      <th>7</th>\n",
              "      <td>Уфа</td>\n",
              "      <td>26</td>\n",
              "    </tr>\n",
              "    <tr>\n",
              "      <th>8</th>\n",
              "      <td>Самара</td>\n",
              "      <td>26</td>\n",
              "    </tr>\n",
              "    <tr>\n",
              "      <th>9</th>\n",
              "      <td>Краснодар</td>\n",
              "      <td>30</td>\n",
              "    </tr>\n",
              "    <tr>\n",
              "      <th>10</th>\n",
              "      <td>Воронеж</td>\n",
              "      <td>32</td>\n",
              "    </tr>\n",
              "    <tr>\n",
              "      <th>11</th>\n",
              "      <td>Новосибирск</td>\n",
              "      <td>35</td>\n",
              "    </tr>\n",
              "    <tr>\n",
              "      <th>12</th>\n",
              "      <td>Нижний Новгород</td>\n",
              "      <td>36</td>\n",
              "    </tr>\n",
              "    <tr>\n",
              "      <th>13</th>\n",
              "      <td>Екатеринбург</td>\n",
              "      <td>39</td>\n",
              "    </tr>\n",
              "    <tr>\n",
              "      <th>14</th>\n",
              "      <td>Санкт-Петербург</td>\n",
              "      <td>42</td>\n",
              "    </tr>\n",
              "    <tr>\n",
              "      <th>15</th>\n",
              "      <td>Москва</td>\n",
              "      <td>54</td>\n",
              "    </tr>\n",
              "    <tr>\n",
              "      <th>16</th>\n",
              "      <td>total</td>\n",
              "      <td>485</td>\n",
              "    </tr>\n",
              "  </tbody>\n",
              "</table>\n",
              "</div>"
            ],
            "text/plain": [
              "               name  cnt\n",
              "0              Омск   21\n",
              "1         Челябинск   22\n",
              "2        Красноярск   23\n",
              "3         Волгоград   24\n",
              "4             Пермь   25\n",
              "5            Казань   25\n",
              "6    Ростов-на-Дону   25\n",
              "7               Уфа   26\n",
              "8            Самара   26\n",
              "9         Краснодар   30\n",
              "10          Воронеж   32\n",
              "11      Новосибирск   35\n",
              "12  Нижний Новгород   36\n",
              "13     Екатеринбург   39\n",
              "14  Санкт-Петербург   42\n",
              "15           Москва   54\n",
              "16            total  485"
            ]
          },
          "execution_count": 214,
          "metadata": {},
          "output_type": "execute_result"
        }
      ],
      "source": [
        "df_5_7  =  pd. read_sql_query(query_5_7,connection)\n",
        "df_5_7"
      ]
    },
    {
      "attachments": {},
      "cell_type": "markdown",
      "id": "04966e40-3bc3-4dc8-9ba2-e80580ce3abc",
      "metadata": {
        "id": "04966e40-3bc3-4dc8-9ba2-e80580ce3abc"
      },
      "source": [
        "***"
      ]
    },
    {
      "attachments": {},
      "cell_type": "markdown",
      "id": "51dcf318",
      "metadata": {},
      "source": [
        "1. Самое большое количество вакансий у Яндекса.\n",
        "2. По резулльтатам 5.2 регион с наибольшим количеством работодателей и 0 количеством вакансий - Россия. Это конечно же ошибка так как работодатель может указыать областью своего присутствия страну, но для вакансий важен, непосредственно, город.\n",
        "3. У технологических гигантов (Яндекс, Ростелеком) самый большой охват по регионам.\n",
        "4. У трети работодателей не указана сфера деятельности, что может привести к путаннице у соискателей, так как многие позиции могут называться одинаково, но специалисты выполняют абсолютно разные функции. \n",
        "5. 3553 компании занимают разработкой програмного обеспечения. Это 1/7 работодателй и только 1 из 294 сфер деятельности. "
      ]
    },
    {
      "attachments": {},
      "cell_type": "markdown",
      "id": "b1ef156a-efcb-49ce-bb23-90763e7f35b2",
      "metadata": {
        "id": "b1ef156a-efcb-49ce-bb23-90763e7f35b2",
        "tags": []
      },
      "source": [
        "# Юнит 6. Предметный анализ"
      ]
    },
    {
      "attachments": {},
      "cell_type": "markdown",
      "id": "b9cd50a0-992d-4988-8463-2b2b1c4629b4",
      "metadata": {
        "id": "b9cd50a0-992d-4988-8463-2b2b1c4629b4"
      },
      "source": [
        "1. Сколько вакансий имеет отношение к данным?\n",
        "\n",
        "Считаем, что вакансия имеет отношение к данным, если в её названии содержатся слова 'data' или 'данн'.\n",
        "\n",
        "*Подсказка: Обратите внимание, что названия вакансий могут быть написаны в любом регистре.* \n"
      ]
    },
    {
      "cell_type": "code",
      "execution_count": 215,
      "id": "54ab0e50-c0f1-47cc-a54b-bc5c8bc363f9",
      "metadata": {
        "id": "54ab0e50-c0f1-47cc-a54b-bc5c8bc363f9"
      },
      "outputs": [],
      "source": [
        "query_6_1 = f'''select count(*)\n",
        "from vacancies\n",
        "where LOWER(name) like '%data%' or LOWER(name) like '%данн%'\n",
        "'''"
      ]
    },
    {
      "cell_type": "code",
      "execution_count": 216,
      "id": "9F1meAqsuUjd",
      "metadata": {
        "id": "9F1meAqsuUjd"
      },
      "outputs": [
        {
          "name": "stderr",
          "output_type": "stream",
          "text": [
            "/Users/olegkudrasev/opt/anaconda3/lib/python3.9/site-packages/pandas/io/sql.py:762: UserWarning:\n",
            "\n",
            "pandas only support SQLAlchemy connectable(engine/connection) ordatabase string URI or sqlite3 DBAPI2 connectionother DBAPI2 objects are not tested, please consider using SQLAlchemy\n",
            "\n"
          ]
        },
        {
          "data": {
            "text/html": [
              "<div>\n",
              "<style scoped>\n",
              "    .dataframe tbody tr th:only-of-type {\n",
              "        vertical-align: middle;\n",
              "    }\n",
              "\n",
              "    .dataframe tbody tr th {\n",
              "        vertical-align: top;\n",
              "    }\n",
              "\n",
              "    .dataframe thead th {\n",
              "        text-align: right;\n",
              "    }\n",
              "</style>\n",
              "<table border=\"1\" class=\"dataframe\">\n",
              "  <thead>\n",
              "    <tr style=\"text-align: right;\">\n",
              "      <th></th>\n",
              "      <th>count</th>\n",
              "    </tr>\n",
              "  </thead>\n",
              "  <tbody>\n",
              "    <tr>\n",
              "      <th>0</th>\n",
              "      <td>1771</td>\n",
              "    </tr>\n",
              "  </tbody>\n",
              "</table>\n",
              "</div>"
            ],
            "text/plain": [
              "   count\n",
              "0   1771"
            ]
          },
          "execution_count": 216,
          "metadata": {},
          "output_type": "execute_result"
        }
      ],
      "source": [
        "df_6_1  =  pd.read_sql_query(query_6_1,connection)\n",
        "df_6_1"
      ]
    },
    {
      "attachments": {},
      "cell_type": "markdown",
      "id": "4dea20cb-a36b-474a-a0b9-e08e8e3857a5",
      "metadata": {
        "id": "4dea20cb-a36b-474a-a0b9-e08e8e3857a5"
      },
      "source": [
        "2. Сколько есть подходящих вакансий для начинающего дата-сайентиста? \n",
        "Будем считать вакансиями для дата-сайентистов такие, в названии которых есть хотя бы одно из следующих сочетаний:\n",
        "* 'data scientist'\n",
        "* 'data science'\n",
        "* 'исследователь данных'\n",
        "* 'ML' (здесь не нужно брать вакансии по HTML)\n",
        "* 'machine learning'\n",
        "* 'машинн%обучен%'\n",
        "\n",
        "** В следующих заданиях мы продолжим работать с вакансиями по этому условию.*\n",
        "\n",
        "Считаем вакансиями для специалистов уровня Junior следующие:\n",
        "* в названии есть слово 'junior' *или*\n",
        "* требуемый опыт — Нет опыта *или*\n",
        "* тип трудоустройства — Стажировка.\n",
        " "
      ]
    },
    {
      "cell_type": "code",
      "execution_count": 217,
      "id": "fd0754f4",
      "metadata": {},
      "outputs": [],
      "source": [
        "comb =['data science','исследователь данных','machine learning','машинн%обучен%']\n",
        "text_1 = \"where ((lower(name) like '%data scientist%' \"\n",
        "text_2 = [f\"or lower(name) like '%{i}%'\" for i in comb]\n",
        "text_3 = \"or name like '%ML%') and lower(name) not like '%html%')\"\n",
        "ds_search_text = text_1+''.join(text_2)+text_3\n",
        "junior_search_text = ds_search_text  + \" and (lower(name) like '%junior%' or lower(experience) like 'нет опыта' or lower(employment) like 'стажировка')\""
      ]
    },
    {
      "cell_type": "code",
      "execution_count": 218,
      "id": "9c61b3c0-bb66-46c9-ae1e-81d3f5752b4a",
      "metadata": {
        "id": "9c61b3c0-bb66-46c9-ae1e-81d3f5752b4a"
      },
      "outputs": [],
      "source": [
        "query_6_2 = f'''select count(*)\n",
        "from vacancies\n",
        "{junior_search_text}\n",
        "'''\n"
      ]
    },
    {
      "cell_type": "code",
      "execution_count": 219,
      "id": "ZNM-LLYuu1dj",
      "metadata": {
        "id": "ZNM-LLYuu1dj"
      },
      "outputs": [
        {
          "name": "stderr",
          "output_type": "stream",
          "text": [
            "/Users/olegkudrasev/opt/anaconda3/lib/python3.9/site-packages/pandas/io/sql.py:762: UserWarning:\n",
            "\n",
            "pandas only support SQLAlchemy connectable(engine/connection) ordatabase string URI or sqlite3 DBAPI2 connectionother DBAPI2 objects are not tested, please consider using SQLAlchemy\n",
            "\n"
          ]
        },
        {
          "data": {
            "text/html": [
              "<div>\n",
              "<style scoped>\n",
              "    .dataframe tbody tr th:only-of-type {\n",
              "        vertical-align: middle;\n",
              "    }\n",
              "\n",
              "    .dataframe tbody tr th {\n",
              "        vertical-align: top;\n",
              "    }\n",
              "\n",
              "    .dataframe thead th {\n",
              "        text-align: right;\n",
              "    }\n",
              "</style>\n",
              "<table border=\"1\" class=\"dataframe\">\n",
              "  <thead>\n",
              "    <tr style=\"text-align: right;\">\n",
              "      <th></th>\n",
              "      <th>count</th>\n",
              "    </tr>\n",
              "  </thead>\n",
              "  <tbody>\n",
              "    <tr>\n",
              "      <th>0</th>\n",
              "      <td>51</td>\n",
              "    </tr>\n",
              "  </tbody>\n",
              "</table>\n",
              "</div>"
            ],
            "text/plain": [
              "   count\n",
              "0     51"
            ]
          },
          "execution_count": 219,
          "metadata": {},
          "output_type": "execute_result"
        }
      ],
      "source": [
        "df_6_2  =  pd.read_sql_query(query_6_2,connection)\n",
        "df_6_2"
      ]
    },
    {
      "attachments": {},
      "cell_type": "markdown",
      "id": "eedceb80-c5ca-480e-b27a-278dfb8b4438",
      "metadata": {
        "id": "eedceb80-c5ca-480e-b27a-278dfb8b4438"
      },
      "source": [
        "3. Сколько есть вакансий для DS, в которых в качестве ключевого навыка указан SQL или postgres?\n",
        "\n",
        "** Критерии для отнесения вакансии к DS указаны в предыдущем задании.*"
      ]
    },
    {
      "cell_type": "code",
      "execution_count": 220,
      "id": "69621713-0cc5-4f1b-a1d7-bb144fa6148c",
      "metadata": {
        "id": "69621713-0cc5-4f1b-a1d7-bb144fa6148c"
      },
      "outputs": [],
      "source": [
        "sql_search_text =ds_search_text+ \"and (lower(key_skills) like '%sql%' or lower(key_skills) like '%postgres%')\"\n",
        "query_6_3 = f'''select count(*)\n",
        "from vacancies\n",
        "{sql_search_text}\n",
        "'''"
      ]
    },
    {
      "cell_type": "code",
      "execution_count": 221,
      "id": "alA8WEAAvGdf",
      "metadata": {
        "id": "alA8WEAAvGdf"
      },
      "outputs": [
        {
          "name": "stderr",
          "output_type": "stream",
          "text": [
            "/Users/olegkudrasev/opt/anaconda3/lib/python3.9/site-packages/pandas/io/sql.py:762: UserWarning:\n",
            "\n",
            "pandas only support SQLAlchemy connectable(engine/connection) ordatabase string URI or sqlite3 DBAPI2 connectionother DBAPI2 objects are not tested, please consider using SQLAlchemy\n",
            "\n"
          ]
        },
        {
          "data": {
            "text/html": [
              "<div>\n",
              "<style scoped>\n",
              "    .dataframe tbody tr th:only-of-type {\n",
              "        vertical-align: middle;\n",
              "    }\n",
              "\n",
              "    .dataframe tbody tr th {\n",
              "        vertical-align: top;\n",
              "    }\n",
              "\n",
              "    .dataframe thead th {\n",
              "        text-align: right;\n",
              "    }\n",
              "</style>\n",
              "<table border=\"1\" class=\"dataframe\">\n",
              "  <thead>\n",
              "    <tr style=\"text-align: right;\">\n",
              "      <th></th>\n",
              "      <th>count</th>\n",
              "    </tr>\n",
              "  </thead>\n",
              "  <tbody>\n",
              "    <tr>\n",
              "      <th>0</th>\n",
              "      <td>201</td>\n",
              "    </tr>\n",
              "  </tbody>\n",
              "</table>\n",
              "</div>"
            ],
            "text/plain": [
              "   count\n",
              "0    201"
            ]
          },
          "execution_count": 221,
          "metadata": {},
          "output_type": "execute_result"
        }
      ],
      "source": [
        "df_6_3 =  pd.read_sql_query(query_6_3,connection)\n",
        "df_6_3"
      ]
    },
    {
      "attachments": {},
      "cell_type": "markdown",
      "id": "1be1e9c6-37cf-4a5f-bfeb-04cab799dc80",
      "metadata": {
        "id": "1be1e9c6-37cf-4a5f-bfeb-04cab799dc80"
      },
      "source": [
        "4. Проверьте, насколько популярен Python в требованиях работодателей к DS.Для этого вычислите количество вакансий, в которых в качестве ключевого навыка указан Python.\n",
        "\n",
        "** Это можно сделать помощью запроса, аналогичного предыдущему.*"
      ]
    },
    {
      "cell_type": "code",
      "execution_count": 222,
      "id": "0036a355-9ccf-4564-8b01-73d8194297e7",
      "metadata": {
        "id": "0036a355-9ccf-4564-8b01-73d8194297e7"
      },
      "outputs": [],
      "source": [
        "py_search_text = ds_search_text+ \"and (lower(key_skills) like '%python%')\"\n",
        "query_6_4 = f'''select count(*)\n",
        "from vacancies\n",
        "{py_search_text}\n",
        "'''"
      ]
    },
    {
      "cell_type": "code",
      "execution_count": 223,
      "id": "1i-5WyucvQ6v",
      "metadata": {
        "id": "1i-5WyucvQ6v"
      },
      "outputs": [
        {
          "name": "stderr",
          "output_type": "stream",
          "text": [
            "/Users/olegkudrasev/opt/anaconda3/lib/python3.9/site-packages/pandas/io/sql.py:762: UserWarning:\n",
            "\n",
            "pandas only support SQLAlchemy connectable(engine/connection) ordatabase string URI or sqlite3 DBAPI2 connectionother DBAPI2 objects are not tested, please consider using SQLAlchemy\n",
            "\n"
          ]
        },
        {
          "data": {
            "text/html": [
              "<div>\n",
              "<style scoped>\n",
              "    .dataframe tbody tr th:only-of-type {\n",
              "        vertical-align: middle;\n",
              "    }\n",
              "\n",
              "    .dataframe tbody tr th {\n",
              "        vertical-align: top;\n",
              "    }\n",
              "\n",
              "    .dataframe thead th {\n",
              "        text-align: right;\n",
              "    }\n",
              "</style>\n",
              "<table border=\"1\" class=\"dataframe\">\n",
              "  <thead>\n",
              "    <tr style=\"text-align: right;\">\n",
              "      <th></th>\n",
              "      <th>count</th>\n",
              "    </tr>\n",
              "  </thead>\n",
              "  <tbody>\n",
              "    <tr>\n",
              "      <th>0</th>\n",
              "      <td>351</td>\n",
              "    </tr>\n",
              "  </tbody>\n",
              "</table>\n",
              "</div>"
            ],
            "text/plain": [
              "   count\n",
              "0    351"
            ]
          },
          "execution_count": 223,
          "metadata": {},
          "output_type": "execute_result"
        }
      ],
      "source": [
        "df_6_4  =  pd.read_sql_query(query_6_4,connection)\n",
        "df_6_4"
      ]
    },
    {
      "attachments": {},
      "cell_type": "markdown",
      "id": "ec3c8db7-fa21-4a41-a994-1af63742a642",
      "metadata": {
        "id": "ec3c8db7-fa21-4a41-a994-1af63742a642"
      },
      "source": [
        "5. Сколько ключевых навыков в среднем указывают в вакансиях для DS?\n",
        "Ответ округлите до двух знаков после точки-разделителя."
      ]
    },
    {
      "cell_type": "code",
      "execution_count": 224,
      "id": "949132bc-d5b6-4611-8218-0b9a504d74f4",
      "metadata": {
        "id": "949132bc-d5b6-4611-8218-0b9a504d74f4"
      },
      "outputs": [],
      "source": [
        "key_skills_search_text = ds_search_text +'and key_skills is not null'\n",
        "query_6_5 = f'''select \n",
        "round(avg(length(key_skills)-length(replace(key_skills,CHR(9),''))+1),2)\n",
        "from vacancies\n",
        "{key_skills_search_text}\n",
        "'''"
      ]
    },
    {
      "cell_type": "code",
      "execution_count": 225,
      "id": "a3V24Tvmviqk",
      "metadata": {
        "id": "a3V24Tvmviqk"
      },
      "outputs": [
        {
          "name": "stderr",
          "output_type": "stream",
          "text": [
            "/Users/olegkudrasev/opt/anaconda3/lib/python3.9/site-packages/pandas/io/sql.py:762: UserWarning:\n",
            "\n",
            "pandas only support SQLAlchemy connectable(engine/connection) ordatabase string URI or sqlite3 DBAPI2 connectionother DBAPI2 objects are not tested, please consider using SQLAlchemy\n",
            "\n"
          ]
        },
        {
          "data": {
            "text/html": [
              "<div>\n",
              "<style scoped>\n",
              "    .dataframe tbody tr th:only-of-type {\n",
              "        vertical-align: middle;\n",
              "    }\n",
              "\n",
              "    .dataframe tbody tr th {\n",
              "        vertical-align: top;\n",
              "    }\n",
              "\n",
              "    .dataframe thead th {\n",
              "        text-align: right;\n",
              "    }\n",
              "</style>\n",
              "<table border=\"1\" class=\"dataframe\">\n",
              "  <thead>\n",
              "    <tr style=\"text-align: right;\">\n",
              "      <th></th>\n",
              "      <th>round</th>\n",
              "    </tr>\n",
              "  </thead>\n",
              "  <tbody>\n",
              "    <tr>\n",
              "      <th>0</th>\n",
              "      <td>6.41</td>\n",
              "    </tr>\n",
              "  </tbody>\n",
              "</table>\n",
              "</div>"
            ],
            "text/plain": [
              "   round\n",
              "0   6.41"
            ]
          },
          "execution_count": 225,
          "metadata": {},
          "output_type": "execute_result"
        }
      ],
      "source": [
        "df_6_5  =  pd.read_sql_query(query_6_5,connection)\n",
        "df_6_5"
      ]
    },
    {
      "attachments": {},
      "cell_type": "markdown",
      "id": "1041c17a-ca8f-4543-a0ca-32778914fb00",
      "metadata": {
        "id": "1041c17a-ca8f-4543-a0ca-32778914fb00"
      },
      "source": [
        "6. Напишите запрос, позволяющий вычислить, какую зарплату для DS в **среднем** указывают для каждого типа требуемого опыта (уникальное значение из поля *experience*). \n",
        "\n",
        "При решении задачи примите во внимание следующее:\n",
        "1. Рассматриваем только вакансии, у которых заполнено хотя бы одно из двух полей с зарплатой.\n",
        "2. Если заполнены оба поля с зарплатой, то считаем зарплату по каждой вакансии как сумму двух полей, делённую на 2. Если заполнено только одно из полей, то его и считаем зарплатой по вакансии.\n",
        "3. Если в расчётах участвует null, в результате он тоже даст null (посмотрите, что возвращает запрос select 1 + null). Чтобы избежать этой ситуацию, мы воспользуемся функцией [coalesce](https://postgrespro.ru/docs/postgresql/9.5/functions-conditional#functions-coalesce-nvl-ifnull), которая заменит null на значение, которое мы передадим. Например, посмотрите, что возвращает запрос `select 1 + coalesce(null, 0)`\n",
        "\n",
        "Выясните, на какую зарплату в среднем может рассчитывать дата-сайентист с опытом работы от 3 до 6 лет. Результат округлите до целого числа. "
      ]
    },
    {
      "cell_type": "code",
      "execution_count": 226,
      "id": "6a743d39-5204-48d3-8271-b9f88e68d40e",
      "metadata": {
        "id": "6a743d39-5204-48d3-8271-b9f88e68d40e"
      },
      "outputs": [],
      "source": [
        "query_6_6 = f'''select expr, round(avg(avrg))\n",
        "from (\n",
        "(select experience expr,\n",
        "(salary_from+salary_to)/2 avrg\n",
        "from vacancies\n",
        "{ds_search_text}\n",
        "and (salary_from is not null and salary_to is not null)\n",
        ")\n",
        "union \n",
        "(select experience,\n",
        "salary_from\n",
        "from vacancies\n",
        "{ds_search_text}\n",
        "and (salary_from is not null and salary_to is null) \n",
        ")\n",
        "union \n",
        "(select experience,\n",
        "salary_to\n",
        "from vacancies\n",
        "{ds_search_text}\n",
        "and (salary_from is null and salary_to is not null) \n",
        ")) as er\n",
        "group by expr\n",
        "'''\n"
      ]
    },
    {
      "cell_type": "code",
      "execution_count": 227,
      "id": "aRIJ0mZEwU1_",
      "metadata": {
        "id": "aRIJ0mZEwU1_"
      },
      "outputs": [
        {
          "name": "stderr",
          "output_type": "stream",
          "text": [
            "/Users/olegkudrasev/opt/anaconda3/lib/python3.9/site-packages/pandas/io/sql.py:762: UserWarning:\n",
            "\n",
            "pandas only support SQLAlchemy connectable(engine/connection) ordatabase string URI or sqlite3 DBAPI2 connectionother DBAPI2 objects are not tested, please consider using SQLAlchemy\n",
            "\n"
          ]
        },
        {
          "data": {
            "text/html": [
              "<div>\n",
              "<style scoped>\n",
              "    .dataframe tbody tr th:only-of-type {\n",
              "        vertical-align: middle;\n",
              "    }\n",
              "\n",
              "    .dataframe tbody tr th {\n",
              "        vertical-align: top;\n",
              "    }\n",
              "\n",
              "    .dataframe thead th {\n",
              "        text-align: right;\n",
              "    }\n",
              "</style>\n",
              "<table border=\"1\" class=\"dataframe\">\n",
              "  <thead>\n",
              "    <tr style=\"text-align: right;\">\n",
              "      <th></th>\n",
              "      <th>expr</th>\n",
              "      <th>round</th>\n",
              "    </tr>\n",
              "  </thead>\n",
              "  <tbody>\n",
              "    <tr>\n",
              "      <th>0</th>\n",
              "      <td>Нет опыта</td>\n",
              "      <td>74643.0</td>\n",
              "    </tr>\n",
              "    <tr>\n",
              "      <th>1</th>\n",
              "      <td>От 1 года до 3 лет</td>\n",
              "      <td>141100.0</td>\n",
              "    </tr>\n",
              "    <tr>\n",
              "      <th>2</th>\n",
              "      <td>От 3 до 6 лет</td>\n",
              "      <td>228618.0</td>\n",
              "    </tr>\n",
              "  </tbody>\n",
              "</table>\n",
              "</div>"
            ],
            "text/plain": [
              "                 expr     round\n",
              "0           Нет опыта   74643.0\n",
              "1  От 1 года до 3 лет  141100.0\n",
              "2       От 3 до 6 лет  228618.0"
            ]
          },
          "execution_count": 227,
          "metadata": {},
          "output_type": "execute_result"
        }
      ],
      "source": [
        "df_6_6  =  pd.read_sql_query(query_6_6,connection)\n",
        "df_6_6"
      ]
    },
    {
      "cell_type": "code",
      "execution_count": 228,
      "id": "a8efa634",
      "metadata": {},
      "outputs": [
        {
          "data": {
            "application/vnd.plotly.v1+json": {
              "config": {
                "plotlyServerURL": "https://plot.ly"
              },
              "data": [
                {
                  "alignmentgroup": "True",
                  "hovertemplate": "expr=%{x}<br>round=%{y}<extra></extra>",
                  "legendgroup": "",
                  "marker": {
                    "color": "#636efa",
                    "pattern": {
                      "shape": ""
                    }
                  },
                  "name": "",
                  "offsetgroup": "",
                  "orientation": "v",
                  "showlegend": false,
                  "textposition": "auto",
                  "type": "bar",
                  "x": [
                    "Нет опыта",
                    "От 1 года до 3 лет",
                    "От 3 до 6 лет"
                  ],
                  "xaxis": "x",
                  "y": [
                    74643,
                    141100,
                    228618
                  ],
                  "yaxis": "y"
                }
              ],
              "layout": {
                "barmode": "relative",
                "legend": {
                  "tracegroupgap": 0
                },
                "template": {
                  "data": {
                    "bar": [
                      {
                        "error_x": {
                          "color": "#2a3f5f"
                        },
                        "error_y": {
                          "color": "#2a3f5f"
                        },
                        "marker": {
                          "line": {
                            "color": "#E5ECF6",
                            "width": 0.5
                          },
                          "pattern": {
                            "fillmode": "overlay",
                            "size": 10,
                            "solidity": 0.2
                          }
                        },
                        "type": "bar"
                      }
                    ],
                    "barpolar": [
                      {
                        "marker": {
                          "line": {
                            "color": "#E5ECF6",
                            "width": 0.5
                          },
                          "pattern": {
                            "fillmode": "overlay",
                            "size": 10,
                            "solidity": 0.2
                          }
                        },
                        "type": "barpolar"
                      }
                    ],
                    "carpet": [
                      {
                        "aaxis": {
                          "endlinecolor": "#2a3f5f",
                          "gridcolor": "white",
                          "linecolor": "white",
                          "minorgridcolor": "white",
                          "startlinecolor": "#2a3f5f"
                        },
                        "baxis": {
                          "endlinecolor": "#2a3f5f",
                          "gridcolor": "white",
                          "linecolor": "white",
                          "minorgridcolor": "white",
                          "startlinecolor": "#2a3f5f"
                        },
                        "type": "carpet"
                      }
                    ],
                    "choropleth": [
                      {
                        "colorbar": {
                          "outlinewidth": 0,
                          "ticks": ""
                        },
                        "type": "choropleth"
                      }
                    ],
                    "contour": [
                      {
                        "colorbar": {
                          "outlinewidth": 0,
                          "ticks": ""
                        },
                        "colorscale": [
                          [
                            0,
                            "#0d0887"
                          ],
                          [
                            0.1111111111111111,
                            "#46039f"
                          ],
                          [
                            0.2222222222222222,
                            "#7201a8"
                          ],
                          [
                            0.3333333333333333,
                            "#9c179e"
                          ],
                          [
                            0.4444444444444444,
                            "#bd3786"
                          ],
                          [
                            0.5555555555555556,
                            "#d8576b"
                          ],
                          [
                            0.6666666666666666,
                            "#ed7953"
                          ],
                          [
                            0.7777777777777778,
                            "#fb9f3a"
                          ],
                          [
                            0.8888888888888888,
                            "#fdca26"
                          ],
                          [
                            1,
                            "#f0f921"
                          ]
                        ],
                        "type": "contour"
                      }
                    ],
                    "contourcarpet": [
                      {
                        "colorbar": {
                          "outlinewidth": 0,
                          "ticks": ""
                        },
                        "type": "contourcarpet"
                      }
                    ],
                    "heatmap": [
                      {
                        "colorbar": {
                          "outlinewidth": 0,
                          "ticks": ""
                        },
                        "colorscale": [
                          [
                            0,
                            "#0d0887"
                          ],
                          [
                            0.1111111111111111,
                            "#46039f"
                          ],
                          [
                            0.2222222222222222,
                            "#7201a8"
                          ],
                          [
                            0.3333333333333333,
                            "#9c179e"
                          ],
                          [
                            0.4444444444444444,
                            "#bd3786"
                          ],
                          [
                            0.5555555555555556,
                            "#d8576b"
                          ],
                          [
                            0.6666666666666666,
                            "#ed7953"
                          ],
                          [
                            0.7777777777777778,
                            "#fb9f3a"
                          ],
                          [
                            0.8888888888888888,
                            "#fdca26"
                          ],
                          [
                            1,
                            "#f0f921"
                          ]
                        ],
                        "type": "heatmap"
                      }
                    ],
                    "heatmapgl": [
                      {
                        "colorbar": {
                          "outlinewidth": 0,
                          "ticks": ""
                        },
                        "colorscale": [
                          [
                            0,
                            "#0d0887"
                          ],
                          [
                            0.1111111111111111,
                            "#46039f"
                          ],
                          [
                            0.2222222222222222,
                            "#7201a8"
                          ],
                          [
                            0.3333333333333333,
                            "#9c179e"
                          ],
                          [
                            0.4444444444444444,
                            "#bd3786"
                          ],
                          [
                            0.5555555555555556,
                            "#d8576b"
                          ],
                          [
                            0.6666666666666666,
                            "#ed7953"
                          ],
                          [
                            0.7777777777777778,
                            "#fb9f3a"
                          ],
                          [
                            0.8888888888888888,
                            "#fdca26"
                          ],
                          [
                            1,
                            "#f0f921"
                          ]
                        ],
                        "type": "heatmapgl"
                      }
                    ],
                    "histogram": [
                      {
                        "marker": {
                          "pattern": {
                            "fillmode": "overlay",
                            "size": 10,
                            "solidity": 0.2
                          }
                        },
                        "type": "histogram"
                      }
                    ],
                    "histogram2d": [
                      {
                        "colorbar": {
                          "outlinewidth": 0,
                          "ticks": ""
                        },
                        "colorscale": [
                          [
                            0,
                            "#0d0887"
                          ],
                          [
                            0.1111111111111111,
                            "#46039f"
                          ],
                          [
                            0.2222222222222222,
                            "#7201a8"
                          ],
                          [
                            0.3333333333333333,
                            "#9c179e"
                          ],
                          [
                            0.4444444444444444,
                            "#bd3786"
                          ],
                          [
                            0.5555555555555556,
                            "#d8576b"
                          ],
                          [
                            0.6666666666666666,
                            "#ed7953"
                          ],
                          [
                            0.7777777777777778,
                            "#fb9f3a"
                          ],
                          [
                            0.8888888888888888,
                            "#fdca26"
                          ],
                          [
                            1,
                            "#f0f921"
                          ]
                        ],
                        "type": "histogram2d"
                      }
                    ],
                    "histogram2dcontour": [
                      {
                        "colorbar": {
                          "outlinewidth": 0,
                          "ticks": ""
                        },
                        "colorscale": [
                          [
                            0,
                            "#0d0887"
                          ],
                          [
                            0.1111111111111111,
                            "#46039f"
                          ],
                          [
                            0.2222222222222222,
                            "#7201a8"
                          ],
                          [
                            0.3333333333333333,
                            "#9c179e"
                          ],
                          [
                            0.4444444444444444,
                            "#bd3786"
                          ],
                          [
                            0.5555555555555556,
                            "#d8576b"
                          ],
                          [
                            0.6666666666666666,
                            "#ed7953"
                          ],
                          [
                            0.7777777777777778,
                            "#fb9f3a"
                          ],
                          [
                            0.8888888888888888,
                            "#fdca26"
                          ],
                          [
                            1,
                            "#f0f921"
                          ]
                        ],
                        "type": "histogram2dcontour"
                      }
                    ],
                    "mesh3d": [
                      {
                        "colorbar": {
                          "outlinewidth": 0,
                          "ticks": ""
                        },
                        "type": "mesh3d"
                      }
                    ],
                    "parcoords": [
                      {
                        "line": {
                          "colorbar": {
                            "outlinewidth": 0,
                            "ticks": ""
                          }
                        },
                        "type": "parcoords"
                      }
                    ],
                    "pie": [
                      {
                        "automargin": true,
                        "type": "pie"
                      }
                    ],
                    "scatter": [
                      {
                        "fillpattern": {
                          "fillmode": "overlay",
                          "size": 10,
                          "solidity": 0.2
                        },
                        "type": "scatter"
                      }
                    ],
                    "scatter3d": [
                      {
                        "line": {
                          "colorbar": {
                            "outlinewidth": 0,
                            "ticks": ""
                          }
                        },
                        "marker": {
                          "colorbar": {
                            "outlinewidth": 0,
                            "ticks": ""
                          }
                        },
                        "type": "scatter3d"
                      }
                    ],
                    "scattercarpet": [
                      {
                        "marker": {
                          "colorbar": {
                            "outlinewidth": 0,
                            "ticks": ""
                          }
                        },
                        "type": "scattercarpet"
                      }
                    ],
                    "scattergeo": [
                      {
                        "marker": {
                          "colorbar": {
                            "outlinewidth": 0,
                            "ticks": ""
                          }
                        },
                        "type": "scattergeo"
                      }
                    ],
                    "scattergl": [
                      {
                        "marker": {
                          "colorbar": {
                            "outlinewidth": 0,
                            "ticks": ""
                          }
                        },
                        "type": "scattergl"
                      }
                    ],
                    "scattermapbox": [
                      {
                        "marker": {
                          "colorbar": {
                            "outlinewidth": 0,
                            "ticks": ""
                          }
                        },
                        "type": "scattermapbox"
                      }
                    ],
                    "scatterpolar": [
                      {
                        "marker": {
                          "colorbar": {
                            "outlinewidth": 0,
                            "ticks": ""
                          }
                        },
                        "type": "scatterpolar"
                      }
                    ],
                    "scatterpolargl": [
                      {
                        "marker": {
                          "colorbar": {
                            "outlinewidth": 0,
                            "ticks": ""
                          }
                        },
                        "type": "scatterpolargl"
                      }
                    ],
                    "scatterternary": [
                      {
                        "marker": {
                          "colorbar": {
                            "outlinewidth": 0,
                            "ticks": ""
                          }
                        },
                        "type": "scatterternary"
                      }
                    ],
                    "surface": [
                      {
                        "colorbar": {
                          "outlinewidth": 0,
                          "ticks": ""
                        },
                        "colorscale": [
                          [
                            0,
                            "#0d0887"
                          ],
                          [
                            0.1111111111111111,
                            "#46039f"
                          ],
                          [
                            0.2222222222222222,
                            "#7201a8"
                          ],
                          [
                            0.3333333333333333,
                            "#9c179e"
                          ],
                          [
                            0.4444444444444444,
                            "#bd3786"
                          ],
                          [
                            0.5555555555555556,
                            "#d8576b"
                          ],
                          [
                            0.6666666666666666,
                            "#ed7953"
                          ],
                          [
                            0.7777777777777778,
                            "#fb9f3a"
                          ],
                          [
                            0.8888888888888888,
                            "#fdca26"
                          ],
                          [
                            1,
                            "#f0f921"
                          ]
                        ],
                        "type": "surface"
                      }
                    ],
                    "table": [
                      {
                        "cells": {
                          "fill": {
                            "color": "#EBF0F8"
                          },
                          "line": {
                            "color": "white"
                          }
                        },
                        "header": {
                          "fill": {
                            "color": "#C8D4E3"
                          },
                          "line": {
                            "color": "white"
                          }
                        },
                        "type": "table"
                      }
                    ]
                  },
                  "layout": {
                    "annotationdefaults": {
                      "arrowcolor": "#2a3f5f",
                      "arrowhead": 0,
                      "arrowwidth": 1
                    },
                    "autotypenumbers": "strict",
                    "coloraxis": {
                      "colorbar": {
                        "outlinewidth": 0,
                        "ticks": ""
                      }
                    },
                    "colorscale": {
                      "diverging": [
                        [
                          0,
                          "#8e0152"
                        ],
                        [
                          0.1,
                          "#c51b7d"
                        ],
                        [
                          0.2,
                          "#de77ae"
                        ],
                        [
                          0.3,
                          "#f1b6da"
                        ],
                        [
                          0.4,
                          "#fde0ef"
                        ],
                        [
                          0.5,
                          "#f7f7f7"
                        ],
                        [
                          0.6,
                          "#e6f5d0"
                        ],
                        [
                          0.7,
                          "#b8e186"
                        ],
                        [
                          0.8,
                          "#7fbc41"
                        ],
                        [
                          0.9,
                          "#4d9221"
                        ],
                        [
                          1,
                          "#276419"
                        ]
                      ],
                      "sequential": [
                        [
                          0,
                          "#0d0887"
                        ],
                        [
                          0.1111111111111111,
                          "#46039f"
                        ],
                        [
                          0.2222222222222222,
                          "#7201a8"
                        ],
                        [
                          0.3333333333333333,
                          "#9c179e"
                        ],
                        [
                          0.4444444444444444,
                          "#bd3786"
                        ],
                        [
                          0.5555555555555556,
                          "#d8576b"
                        ],
                        [
                          0.6666666666666666,
                          "#ed7953"
                        ],
                        [
                          0.7777777777777778,
                          "#fb9f3a"
                        ],
                        [
                          0.8888888888888888,
                          "#fdca26"
                        ],
                        [
                          1,
                          "#f0f921"
                        ]
                      ],
                      "sequentialminus": [
                        [
                          0,
                          "#0d0887"
                        ],
                        [
                          0.1111111111111111,
                          "#46039f"
                        ],
                        [
                          0.2222222222222222,
                          "#7201a8"
                        ],
                        [
                          0.3333333333333333,
                          "#9c179e"
                        ],
                        [
                          0.4444444444444444,
                          "#bd3786"
                        ],
                        [
                          0.5555555555555556,
                          "#d8576b"
                        ],
                        [
                          0.6666666666666666,
                          "#ed7953"
                        ],
                        [
                          0.7777777777777778,
                          "#fb9f3a"
                        ],
                        [
                          0.8888888888888888,
                          "#fdca26"
                        ],
                        [
                          1,
                          "#f0f921"
                        ]
                      ]
                    },
                    "colorway": [
                      "#636efa",
                      "#EF553B",
                      "#00cc96",
                      "#ab63fa",
                      "#FFA15A",
                      "#19d3f3",
                      "#FF6692",
                      "#B6E880",
                      "#FF97FF",
                      "#FECB52"
                    ],
                    "font": {
                      "color": "#2a3f5f"
                    },
                    "geo": {
                      "bgcolor": "white",
                      "lakecolor": "white",
                      "landcolor": "#E5ECF6",
                      "showlakes": true,
                      "showland": true,
                      "subunitcolor": "white"
                    },
                    "hoverlabel": {
                      "align": "left"
                    },
                    "hovermode": "closest",
                    "mapbox": {
                      "style": "light"
                    },
                    "paper_bgcolor": "white",
                    "plot_bgcolor": "#E5ECF6",
                    "polar": {
                      "angularaxis": {
                        "gridcolor": "white",
                        "linecolor": "white",
                        "ticks": ""
                      },
                      "bgcolor": "#E5ECF6",
                      "radialaxis": {
                        "gridcolor": "white",
                        "linecolor": "white",
                        "ticks": ""
                      }
                    },
                    "scene": {
                      "xaxis": {
                        "backgroundcolor": "#E5ECF6",
                        "gridcolor": "white",
                        "gridwidth": 2,
                        "linecolor": "white",
                        "showbackground": true,
                        "ticks": "",
                        "zerolinecolor": "white"
                      },
                      "yaxis": {
                        "backgroundcolor": "#E5ECF6",
                        "gridcolor": "white",
                        "gridwidth": 2,
                        "linecolor": "white",
                        "showbackground": true,
                        "ticks": "",
                        "zerolinecolor": "white"
                      },
                      "zaxis": {
                        "backgroundcolor": "#E5ECF6",
                        "gridcolor": "white",
                        "gridwidth": 2,
                        "linecolor": "white",
                        "showbackground": true,
                        "ticks": "",
                        "zerolinecolor": "white"
                      }
                    },
                    "shapedefaults": {
                      "line": {
                        "color": "#2a3f5f"
                      }
                    },
                    "ternary": {
                      "aaxis": {
                        "gridcolor": "white",
                        "linecolor": "white",
                        "ticks": ""
                      },
                      "baxis": {
                        "gridcolor": "white",
                        "linecolor": "white",
                        "ticks": ""
                      },
                      "bgcolor": "#E5ECF6",
                      "caxis": {
                        "gridcolor": "white",
                        "linecolor": "white",
                        "ticks": ""
                      }
                    },
                    "title": {
                      "x": 0.05
                    },
                    "xaxis": {
                      "automargin": true,
                      "gridcolor": "white",
                      "linecolor": "white",
                      "ticks": "",
                      "title": {
                        "standoff": 15
                      },
                      "zerolinecolor": "white",
                      "zerolinewidth": 2
                    },
                    "yaxis": {
                      "automargin": true,
                      "gridcolor": "white",
                      "linecolor": "white",
                      "ticks": "",
                      "title": {
                        "standoff": 15
                      },
                      "zerolinecolor": "white",
                      "zerolinewidth": 2
                    }
                  }
                },
                "title": {
                  "text": "График распределения ЗП от опыта"
                },
                "xaxis": {
                  "anchor": "y",
                  "domain": [
                    0,
                    1
                  ],
                  "title": {
                    "text": "Опыт"
                  }
                },
                "yaxis": {
                  "anchor": "x",
                  "domain": [
                    0,
                    1
                  ],
                  "title": {
                    "text": "Средняя ЗП"
                  }
                }
              }
            }
          },
          "metadata": {},
          "output_type": "display_data"
        }
      ],
      "source": [
        "bar_6_6 = px.bar(df_6_6,'expr','round',title='График распределения ЗП от опыта')\n",
        "bar_6_6.update_layout(\n",
        "    xaxis_title= 'Опыт',\n",
        "    yaxis_title = 'Средняя ЗП'\n",
        ")\n",
        "bar_6_6.write_html('plots/bar_6_6.html')\n",
        "display(bar_6_6)"
      ]
    },
    {
      "attachments": {},
      "cell_type": "markdown",
      "id": "6a7892b4-4113-4746-adce-18aa2844f18e",
      "metadata": {
        "id": "6a7892b4-4113-4746-adce-18aa2844f18e"
      },
      "source": [
        "***"
      ]
    },
    {
      "attachments": {},
      "cell_type": "markdown",
      "id": "b9290c0a",
      "metadata": {},
      "source": [
        "1. 1771 - вакансия имеет отношение к данным.\n",
        "2. 51 вакансия подходит для junior data scientist\n",
        "3. В 201 вакансии требуют опыт SQL или Postgresql.\n",
        "4. Работодатели требую знание python 351 чаще чем SQL.\n",
        "5. В основном указывают 6 ключевых навыков.\n",
        "6. Все логично, что с большим стажем работы увеличивается ЗП. Но можно обратить внимание, что требований к опыту более 6 лет в сфере просто нет."
      ]
    },
    {
      "attachments": {},
      "cell_type": "markdown",
      "id": "c0ED6fh7wiBT",
      "metadata": {
        "id": "c0ED6fh7wiBT"
      },
      "source": [
        "# Общий вывод по проекту"
      ]
    },
    {
      "cell_type": "code",
      "execution_count": 229,
      "id": "e487e396",
      "metadata": {},
      "outputs": [
        {
          "name": "stderr",
          "output_type": "stream",
          "text": [
            "/Users/olegkudrasev/opt/anaconda3/lib/python3.9/site-packages/pandas/io/sql.py:762: UserWarning:\n",
            "\n",
            "pandas only support SQLAlchemy connectable(engine/connection) ordatabase string URI or sqlite3 DBAPI2 connectionother DBAPI2 objects are not tested, please consider using SQLAlchemy\n",
            "\n"
          ]
        },
        {
          "data": {
            "text/html": [
              "<div>\n",
              "<style scoped>\n",
              "    .dataframe tbody tr th:only-of-type {\n",
              "        vertical-align: middle;\n",
              "    }\n",
              "\n",
              "    .dataframe tbody tr th {\n",
              "        vertical-align: top;\n",
              "    }\n",
              "\n",
              "    .dataframe thead th {\n",
              "        text-align: right;\n",
              "    }\n",
              "</style>\n",
              "<table border=\"1\" class=\"dataframe\">\n",
              "  <thead>\n",
              "    <tr style=\"text-align: right;\">\n",
              "      <th></th>\n",
              "      <th>industry</th>\n",
              "      <th>round</th>\n",
              "    </tr>\n",
              "  </thead>\n",
              "  <tbody>\n",
              "    <tr>\n",
              "      <th>0</th>\n",
              "      <td>Агрохимия (продвижение, оптовая торговля)</td>\n",
              "      <td>381429.0</td>\n",
              "    </tr>\n",
              "    <tr>\n",
              "      <th>1</th>\n",
              "      <td>Агрохимия (производство)</td>\n",
              "      <td>339875.0</td>\n",
              "    </tr>\n",
              "    <tr>\n",
              "      <th>2</th>\n",
              "      <td>Игорный бизнес</td>\n",
              "      <td>191905.0</td>\n",
              "    </tr>\n",
              "    <tr>\n",
              "      <th>3</th>\n",
              "      <td>Корма для животных (производство)</td>\n",
              "      <td>168300.0</td>\n",
              "    </tr>\n",
              "    <tr>\n",
              "      <th>4</th>\n",
              "      <td>Зоомагазин</td>\n",
              "      <td>167613.0</td>\n",
              "    </tr>\n",
              "    <tr>\n",
              "      <th>...</th>\n",
              "      <td>...</td>\n",
              "      <td>...</td>\n",
              "    </tr>\n",
              "    <tr>\n",
              "      <th>286</th>\n",
              "      <td>Фото- и видеоуслуги</td>\n",
              "      <td>40961.0</td>\n",
              "    </tr>\n",
              "    <tr>\n",
              "      <th>287</th>\n",
              "      <td>Ритуальные услуги</td>\n",
              "      <td>37401.0</td>\n",
              "    </tr>\n",
              "    <tr>\n",
              "      <th>288</th>\n",
              "      <td>Архив, библиотека, искусствоведение</td>\n",
              "      <td>36858.0</td>\n",
              "    </tr>\n",
              "    <tr>\n",
              "      <th>289</th>\n",
              "      <td>Переработка газа</td>\n",
              "      <td>34068.0</td>\n",
              "    </tr>\n",
              "    <tr>\n",
              "      <th>290</th>\n",
              "      <td>Детское питание (производство)</td>\n",
              "      <td>32868.0</td>\n",
              "    </tr>\n",
              "  </tbody>\n",
              "</table>\n",
              "<p>291 rows × 2 columns</p>\n",
              "</div>"
            ],
            "text/plain": [
              "                                      industry     round\n",
              "0    Агрохимия (продвижение, оптовая торговля)  381429.0\n",
              "1                     Агрохимия (производство)  339875.0\n",
              "2                               Игорный бизнес  191905.0\n",
              "3            Корма для животных (производство)  168300.0\n",
              "4                                   Зоомагазин  167613.0\n",
              "..                                         ...       ...\n",
              "286                        Фото- и видеоуслуги   40961.0\n",
              "287                          Ритуальные услуги   37401.0\n",
              "288        Архив, библиотека, искусствоведение   36858.0\n",
              "289                           Переработка газа   34068.0\n",
              "290             Детское питание (производство)   32868.0\n",
              "\n",
              "[291 rows x 2 columns]"
            ]
          },
          "execution_count": 229,
          "metadata": {},
          "output_type": "execute_result"
        }
      ],
      "source": [
        "# Хотелось бы увидеть зависимость средней ЗП от направления компании \n",
        "query_7_1 = f'''select industry,round(avg(slry))\n",
        "from(\n",
        "(select \n",
        "i.name industry,\n",
        "v.salary_from slry\n",
        "from vacancies v\n",
        "join employers e on v.employer_id = e.id\n",
        "join employers_industries ei on ei.employer_id = e.id\n",
        "join industries i on i.id = ei.industry_id\n",
        "where salary_from is not null and not (salary_from is not null and salary_to is not null)\n",
        ")\n",
        "union all\n",
        "(select \n",
        "i.name,\n",
        "v.salary_to \n",
        "from vacancies v\n",
        "join employers e on v.employer_id = e.id\n",
        "join employers_industries ei on ei.employer_id = e.id\n",
        "join industries i on i.id = ei.industry_id\n",
        "where salary_to is not null and not (salary_from is not null and salary_to is not null)\n",
        ")\n",
        "union all\n",
        "(select \n",
        "i.name,\n",
        "(v.salary_from + v.salary_to)/2\n",
        "from vacancies v\n",
        "join employers e on v.employer_id = e.id\n",
        "join employers_industries ei on ei.employer_id = e.id\n",
        "join industries i on i.id = ei.industry_id\n",
        "where salary_from is not null and salary_to is not null\n",
        ")\n",
        ") as r\n",
        "group by industry\n",
        "order by avg(slry) desc\n",
        "'''\n",
        "df_7_1  =  pd.read_sql_query(query_7_1,connection)\n",
        "df_7_1"
      ]
    },
    {
      "cell_type": "code",
      "execution_count": 230,
      "id": "22d10adf",
      "metadata": {},
      "outputs": [
        {
          "data": {
            "application/vnd.plotly.v1+json": {
              "config": {
                "plotlyServerURL": "https://plot.ly"
              },
              "data": [
                {
                  "branchvalues": "total",
                  "domain": {
                    "x": [
                      0,
                      1
                    ],
                    "y": [
                      0,
                      1
                    ]
                  },
                  "hovertemplate": "labels=%{label}<br>round=%{value}<br>parent=%{parent}<br>id=%{id}<extra></extra>",
                  "ids": [
                    "Авиаперевозки",
                    "Авиационная, вертолетная, аэрокосмическая промышленность",
                    "Автозапчасти, шины (розничная торговля)",
                    "Автокомпоненты, запчасти (производство)",
                    "Автокомпоненты, запчасти, шины (продвижение, оптовая торговля)",
                    "Автомобильные перевозки",
                    "Агентские услуги в недвижимости",
                    "Агрохимия (продвижение, оптовая торговля)",
                    "Агрохимия (производство)",
                    "Алкогольные напитки (продвижение, оптовая торговля)",
                    "Альтернативная энергетика: гео-, ветро-, солнце-, био- (генерация электроэнергии)",
                    "Аптека, оптика",
                    "Аренда автомобилей",
                    "Архив, библиотека, искусствоведение",
                    "Архитектура, проектирование",
                    "Атомная энергетика (генерация электроэнергии, АЭС)",
                    "Аудит, управленческий учет, финансово-юридический консалтинг",
                    "Банк",
                    "Безалкогольные напитки (продвижение, оптовая торговля)",
                    "Безалкогольные напитки (производство)",
                    "Безопасность, охранная деятельность",
                    "Бетон, кирпич, стекло и прочие силикаты (продвижение, оптовая торговля)",
                    "Бетон, кирпич, стекло и прочие силикаты (производство)",
                    "Бизнес-образование",
                    "Благотворительная организация",
                    "Благоустройство и уборка территорий и зданий",
                    "Бытовая техника, электроника, климатическое оборудование (монтаж, сервис, ремонт)",
                    "Бытовая техника, электроника, климатическое оборудование (продвижение, оптовая торговля)",
                    "Бытовая техника, электроника, климатическое оборудование (производство)",
                    "Бытовая химия, парфюмерия, косметика  (продвижение, оптовая торговля)",
                    "Бытовая химия, парфюмерия, косметика  (производство)",
                    "ВЭД, таможенное оформление",
                    "Вендинг (торговля через автоматы)",
                    "Вентиляция и кондиционирование (монтаж, сервис, ремонт)",
                    "Ветеринарная аптека",
                    "Ветеринарная деятельность",
                    "Вино (производство)",
                    "Водоснабжение и канализация",
                    "Вуз, ссуз колледж, ПТУ",
                    "ГСМ, топливо (продвижение, оптовая торговля)",
                    "ГСМ, топливо (розничная торговля)",
                    "Гидроэнергетика (генерация электроэнергии, ГЭС)",
                    "Гостиница",
                    "Государственные организации",
                    "Двигатели (монтаж, сервис, ремонт)",
                    "Двигатели (продвижение, оптовая торговля)",
                    "Двигатели (производство)",
                    "Девелопмент",
                    "Деревообработка (производство)",
                    "Детское питание (продвижение, оптовая торговля)",
                    "Детское питание (производство)",
                    "Добыча газа",
                    "Добыча и обогащение минерального сырья (соль, сера, глинозем), разработка карьеров (песок, глина, камень), добыча торфа",
                    "Добыча и обогащение руд черных, цветных, драгоценных, благородных, редких металлов",
                    "Добыча и обогащение угля",
                    "Добыча нефти",
                    "Домашний персонал",
                    "Дорожно-строительная техника, сельскохозяйственная и другая спец.техника, оборудование, лифты, погрузочно-разгрузочное, складское оборудование (монтаж, сервис, ремонт)",
                    "Дорожно-строительная техника, сельскохозяйственная и другая спец.техника, оборудование, лифты, погрузочно-разгрузочное, складское оборудование (продвижение, оптовая торговля)",
                    "Дорожно-строительная техника, сельскохозяйственная и другая спец.техника, оборудование, лифты, погрузочно-разгрузочное, складское оборудование (производство)",
                    "Драгоценные, благородные и редкие металлы (продвижение, оптовая торговля)",
                    "Драгоценные, благородные и редкие металлы (производство)",
                    "Железнодорожное машиностроение, вагоностроение",
                    "Железнодорожные перевозки",
                    "Земледелие, растениеводство, животноводство",
                    "Зоомагазин",
                    "Игорный бизнес",
                    "Издательская деятельность",
                    "Инженерно-изыскательские, гидрогеологические, геологоразведочные работы",
                    "Интернет-компания (поисковики, платежные системы, соц.сети, информационно-познавательные и развлекательные ресурсы, продвижение сайтов и прочее)",
                    "Интернет-магазин",
                    "Интернет-провайдер",
                    "Инфраструктурная компания в энергетике (СО ЕЭС, АТС, ЦФР и т.п.)",
                    "Кадровые агентства",
                    "Канцтовары, расходные материалы (продвижение, оптовая торговля)",
                    "Канцтовары, расходные материалы (производство)",
                    "Кейтеринг (выездное обслуживание)",
                    "Киностудии и студии звукозаписи",
                    "Клинические исследования",
                    "Колл-центры, диспетчерские службы",
                    "Коллекторская деятельность",
                    "Кондитерские изделия (продвижение, оптовая торговля)",
                    "Кондитерские изделия (производство)",
                    "Консалтинг в области энергоэффективности",
                    "Консалтинг, оценка в недвижимости",
                    "Консалтинговые услуги",
                    "Консервированная продукция (продвижение, оптовая торговля)",
                    "Консервированная продукция (производство)",
                    "Контроль качества, экспертиза, испытания и сертификация",
                    "Корма для животных (продвижение, оптовая торговля)",
                    "Корма для животных (производство)",
                    "Курьерская, почтовая доставка",
                    "Лаборатория, исследовательский центр",
                    "Лакокрасочная продукция, сырье (продвижение, оптовая торговля)",
                    "Лакокрасочная продукция, сырье (производство)",
                    "Легковые, грузовые автомобили, мототехника, автобусы, троллейбусы (продвижение, оптовая торговля)",
                    "Легковые, грузовые автомобили, мототехника, автобусы, троллейбусы (производство)",
                    "Лечебно-профилактические учреждения",
                    "Лизинговые компании",
                    "Ликероводочная продукция (производство)",
                    "Лифтовое хозяйство (монтаж, сервис, ремонт)",
                    "Макаронные изделия (продвижение, оптовая торговля)",
                    "Макаронные изделия (производство)",
                    "Маркетинговые, рекламные, BTL, дизайнерские, Event-, PR-агентства, организация выставок",
                    "Масложировая продукция (продвижение, оптовая торговля)",
                    "Масложировая продукция (производство)",
                    "Мебель (продвижение, оптовая торговля)",
                    "Мебель (производство)",
                    "Медицинское, диагностическое оборудование, инструменты (монтаж, сервис, ремонт)",
                    "Медицинское, диагностическое оборудование, инструменты (продвижение, оптовая торговля)",
                    "Медицинское, диагностическое оборудование, инструменты (производство)",
                    "Металлические изделия, металлоконструкции (продвижение, оптовая торговля)",
                    "Металлические изделия, металлоконструкции (производство)",
                    "Мобильная связь",
                    "Молочная продукция (продвижение, оптовая торговля)",
                    "Молочная продукция (производство)",
                    "Морские, речные перевозки",
                    "Музей, галерея, театр",
                    "Мука, крупы (продвижение, оптовая торговля)",
                    "Мука, крупы (производство)",
                    "Мясная продукция (продвижение, оптовая торговля)",
                    "Мясная продукция (производство)",
                    "НПФ",
                    "Научно-исследовательская, научная, академическая деятельность",
                    "Неорганическая химия (продвижение, оптовая торговля)",
                    "Неорганическая химия (производство)",
                    "Несетевая розница, мелкий опт",
                    "Нефтепереработка, нефтехимия (производство)",
                    "Нефтехимия (продвижение, оптовая торговля)",
                    "Обеспечение пожарной безопасности, молниезащиты",
                    "Оборудование для деревообработки, заготовки леса, целлюлозно-бумажной промышленности (монтаж, сервис, ремонт)",
                    "Оборудование для деревообработки, заготовки леса, целлюлозно-бумажной промышленности (продвижение, оптовая торговля)",
                    "Оборудование для деревообработки, заготовки леса, целлюлозно-бумажной промышленности (производство)",
                    "Оборудование для пищевой промышленности, упаковки и хранения (монтаж, сервис, ремонт)",
                    "Оборудование для пищевой промышленности, упаковки и хранения (продвижение, оптовая торговля)",
                    "Оборудование для пищевой промышленности, упаковки и хранения (производство)",
                    "Оборудование для ресторанов, гостиниц, кейтеринга, розничной торговли  (монтаж, сервис, ремонт)",
                    "Оборудование для ресторанов, гостиниц, кейтеринга, розничной торговли  (продвижение, оптовая торговля)",
                    "Оборудование для ресторанов, гостиниц, кейтеринга, розничной торговли (производство)",
                    "Оборудование и станки для добывающей, энергетической, нефтегазовой и химической отрасли  (монтаж, сервис, ремонт)",
                    "Оборудование и станки для добывающей, энергетической, нефтегазовой и химической отрасли  (продвижение, оптовая торговля)",
                    "Оборудование и станки для добывающей, энергетической, нефтегазовой и химической отрасли  (производство)",
                    "Оборудование и станки для металлургии и металлообработки (монтаж, сервис, ремонт)",
                    "Оборудование и станки для металлургии и металлообработки (продвижение, оптовая торговля)",
                    "Оборудование и станки для металлургии и металлообработки (производство)",
                    "Оборудование и станки для отраслей легкой промышленности (монтаж, сервис, ремонт)",
                    "Оборудование и станки для отраслей легкой промышленности (продвижение, оптовая торговля)",
                    "Оборудование и станки для отраслей легкой промышленности (производство)",
                    "Обучение иностранным языкам",
                    "Обучение искусствам (рисование, пение, танцы, фото)",
                    "Общественная, политическая организация",
                    "Одежда, обувь, аксессуары, текстиль  (продвижение, оптовая торговля)",
                    "Одежда, обувь, аксессуары, текстиль (производство)",
                    "Оптоволоконная связь",
                    "Органическая химия (продвижение, оптовая торговля)",
                    "Органическая химия (производство)",
                    "Переводческая деятельность",
                    "Передача, распределение электроэнергии",
                    "Переработка газа",
                    "Пиво (производство)",
                    "Пищевые концентраты (продвижение, оптовая торговля)",
                    "Пищевые концентраты (производство)",
                    "Повышение квалификации, переквалификация",
                    "Полуфабрикаты, в том числе замороженные  (продвижение, оптовая торговля)",
                    "Полуфабрикаты, в том числе замороженные (производство)",
                    "Посуда, свет, товары для дома  (продвижение, оптовая торговля)",
                    "Посуда, свет, товары для дома  (производство)",
                    "Пошив, ремонт одежды и обуви",
                    "Продукция авиационной, аэрокосмической, вертолетной промышленности (монтаж, сервис, ремонт)",
                    "Продукция авиационной, аэрокосмической, вертолетной промышленности (продвижение, оптовая торговля)",
                    "Продукция деревообработки (продвижение, оптовая торговля)",
                    "Продукция железнодорожного машиностроения, вагоностроения (монтаж, сервис, ремонт)",
                    "Продукция железнодорожного машиностроения, вагоностроения (продвижение, оптовая торговля)",
                    "Продукция судостроения (продвижение, оптовая торговля)",
                    "Продукция цветной металлургии (продвижение, оптовая торговля)",
                    "Продукция черной металлургии (продвижение, оптовая торговля)",
                    "Продюсерский центр",
                    "Производство и продажа рекламно-сувенирной продукции",
                    "Производство и ремонт военной техники, оборудования и вооружения",
                    "Производство мультимедиа, контента, редакторская деятельность",
                    "Производство печатной, полиграфической продукции",
                    "Промышленное, бытовое электрооборудование и электротехника (монтаж, сервис, ремонт)",
                    "Промышленное, бытовое электрооборудование и электротехника (продвижение, оптовая торговля)",
                    "Промышленное, бытовое электрооборудование и электротехника (производство)",
                    "Профессиональная, предпринимательская организация",
                    "Разработка программного обеспечения",
                    "Распространение мультимедиа и печатной продукции",
                    "Распространение телепрограмм, кино (кабельное телевидение)",
                    "Резина, пластмасса и прочее (продвижение, оптовая торговля)",
                    "Резина, пластмасса и прочее (производство)",
                    "Ремонт зданий и сооружений",
                    "Ресторан, общественное питание, фаст-фуд",
                    "Ритуальные услуги",
                    "Розничная сеть (DIY и товары для дома)",
                    "Розничная сеть (drogerie, товары повседневного спроса)",
                    "Розничная сеть (книги, игрушки, подарки, часы и прочее)",
                    "Розничная сеть (мебель)",
                    "Розничная сеть (мобильный ритейл)",
                    "Розничная сеть (одежда, обувь, аксессуары)",
                    "Розничная сеть (парфюмерия, косметика)",
                    "Розничная сеть (продуктовая)",
                    "Розничная сеть (спортивные товары)",
                    "Розничная сеть (товары для детей)",
                    "Розничная сеть (электроника, бытовая техника)",
                    "Розничная сеть (ювелирные изделия)",
                    "Розничная торговля автомобилями (дилерский центр)",
                    "Рыба и морепродукты (продвижение, оптовая торговля)",
                    "Рыба и морепродукты (производство)",
                    "Рыболовство, рыбоводство",
                    "Салоны красоты",
                    "Сантехника (продвижение, оптовая торговля)",
                    "Сантехника (производство)",
                    "Сахар (продвижение, оптовая торговля)",
                    "Сахар (производство)",
                    "Сбыт и потребление электроэнергии",
                    "Свежие овощи, фрукты (продвижение, оптовая торговля)",
                    "Сельскохозяйственная продукция (продвижение, оптовая торговля)",
                    "Системная интеграция,  автоматизации технологических и бизнес-процессов предприятия, ИТ-консалтинг",
                    "Складские услуги",
                    "Слаботочные сети (монтаж, сервис, ремонт)",
                    "Снеки (продвижение, оптовая торговля)",
                    "Снеки (производство)",
                    "Спортивная федерация",
                    "Спортивное обучение",
                    "Спортивные и фитнес-клубы",
                    "Спортивные товары и оборудование (продвижение, оптовая торговля)",
                    "Спортивные товары и оборудование (производство)",
                    "Спутниковая связь",
                    "Столярно-строительные изделия (продвижение, оптовая торговля)",
                    "Столярно-строительные изделия (производство)",
                    "Страхование, перестрахование",
                    "Строительство дорожное и инфраструктурное",
                    "Строительство жилищное",
                    "Строительство коммерческих объектов (торговые площади, офисные здания)",
                    "Строительство объектов металлургической отрасли",
                    "Строительство объектов нефтегазовой отрасли",
                    "Строительство объектов телекоммуникационной отрасли",
                    "Строительство промышленное",
                    "Строительство энергетическое",
                    "Стройматериалы, сборные конструкции для ремонта и строительства (продвижение, оптовая торговля)",
                    "Стройматериалы, сборные конструкции для ремонта и строительства (производство, монтаж, сервис, ремонт)",
                    "Судоремонт",
                    "Судостроение",
                    "Табак  (продвижение, оптовая торговля)",
                    "Табак  (производство)",
                    "Такси",
                    "Теле- и радиовещание",
                    "Теплоснабжение (ТЭЦ)",
                    "Теплоэнергетика (генерация электроэнергии и тепла, ТЭС)",
                    "Техническое обслуживание, ремонт автомобилей",
                    "Товары для детей (продвижение, оптовая торговля)",
                    "Товары для детей (производство)",
                    "Транспортировка, хранение газа",
                    "Транспортировка, хранение нефти",
                    "Транспортно-логистические комплексы, порты (воздушный, водный, железнодорожный)",
                    "Тренинговые компании",
                    "Туристические компании",
                    "Управление и эксплуатация недвижимости",
                    "Управляющая компания группы, холдинга, штаб-квартира",
                    "Управляющая, инвестиционная компания (управление активами)",
                    "Услуги по ведению бухгалтерского и налогового учета, расчет заработной платы",
                    "Услуги по организации поездок и бронированию",
                    "Утилизация бытовых отходов",
                    "Учреждение соц.помощи и защиты",
                    "Факторинговые компании",
                    "Фармацевтическая продукция (продвижение, оптовая торговля)",
                    "Фармацевтическая продукция (производство)",
                    "Фиксированная связь",
                    "Финансово-кредитное посредничество (биржа, брокерская деятельность, выпуск и обслуживание карт, оценка рисков, обменные пункты, агентства по кредитованию, инкассация, ломбард, платежные системы)",
                    "Финансовые услуги (кэптивные банки и лизинговые компании)",
                    "Фонд, грантодатель",
                    "Фото- и видеоуслуги",
                    "Химчистка",
                    "Хлебобулочные изделия (продвижение, оптовая торговля)",
                    "Хлебобулочные изделия (производство)",
                    "Цветная металлургия (выплавка, металлопрокат)",
                    "Целлюлозно-бумажная продукция (продвижение, оптовая торговля)",
                    "Целлюлозно-бумажное производство",
                    "Центры развлечения",
                    "Чай, кофе (продвижение, оптовая торговля)",
                    "Чай, кофе (производство)",
                    "Черная металлургия (производство чугуна, стали, проката)",
                    "Школа, детский сад",
                    "Экологическое обслуживание, водоочистка, утилизация отходов",
                    "Электронно-вычислительная, оптическая, контрольно-измерительная техника, радиоэлектроника, автоматика (монтаж, сервис, ремонт)",
                    "Электронно-вычислительная, оптическая, контрольно-измерительная техника, радиоэлектроника, автоматика (продвижение, оптовая торговля)",
                    "Электронно-вычислительная, оптическая, контрольно-измерительная техника, радиоэлектроника, автоматика (производство)",
                    "Энергоснабжение",
                    "Ювелирные изделия, бижутерия  (продвижение, оптовая торговля)",
                    "Ювелирные изделия, бижутерия  (производство)",
                    "Юридическое обслуживание"
                  ],
                  "labels": [
                    "Авиаперевозки",
                    "Авиационная, вертолетная, аэрокосмическая промышленность",
                    "Автозапчасти, шины (розничная торговля)",
                    "Автокомпоненты, запчасти (производство)",
                    "Автокомпоненты, запчасти, шины (продвижение, оптовая торговля)",
                    "Автомобильные перевозки",
                    "Агентские услуги в недвижимости",
                    "Агрохимия (продвижение, оптовая торговля)",
                    "Агрохимия (производство)",
                    "Алкогольные напитки (продвижение, оптовая торговля)",
                    "Альтернативная энергетика: гео-, ветро-, солнце-, био- (генерация электроэнергии)",
                    "Аптека, оптика",
                    "Аренда автомобилей",
                    "Архив, библиотека, искусствоведение",
                    "Архитектура, проектирование",
                    "Атомная энергетика (генерация электроэнергии, АЭС)",
                    "Аудит, управленческий учет, финансово-юридический консалтинг",
                    "Банк",
                    "Безалкогольные напитки (продвижение, оптовая торговля)",
                    "Безалкогольные напитки (производство)",
                    "Безопасность, охранная деятельность",
                    "Бетон, кирпич, стекло и прочие силикаты (продвижение, оптовая торговля)",
                    "Бетон, кирпич, стекло и прочие силикаты (производство)",
                    "Бизнес-образование",
                    "Благотворительная организация",
                    "Благоустройство и уборка территорий и зданий",
                    "Бытовая техника, электроника, климатическое оборудование (монтаж, сервис, ремонт)",
                    "Бытовая техника, электроника, климатическое оборудование (продвижение, оптовая торговля)",
                    "Бытовая техника, электроника, климатическое оборудование (производство)",
                    "Бытовая химия, парфюмерия, косметика  (продвижение, оптовая торговля)",
                    "Бытовая химия, парфюмерия, косметика  (производство)",
                    "ВЭД, таможенное оформление",
                    "Вендинг (торговля через автоматы)",
                    "Вентиляция и кондиционирование (монтаж, сервис, ремонт)",
                    "Ветеринарная аптека",
                    "Ветеринарная деятельность",
                    "Вино (производство)",
                    "Водоснабжение и канализация",
                    "Вуз, ссуз колледж, ПТУ",
                    "ГСМ, топливо (продвижение, оптовая торговля)",
                    "ГСМ, топливо (розничная торговля)",
                    "Гидроэнергетика (генерация электроэнергии, ГЭС)",
                    "Гостиница",
                    "Государственные организации",
                    "Двигатели (монтаж, сервис, ремонт)",
                    "Двигатели (продвижение, оптовая торговля)",
                    "Двигатели (производство)",
                    "Девелопмент",
                    "Деревообработка (производство)",
                    "Детское питание (продвижение, оптовая торговля)",
                    "Детское питание (производство)",
                    "Добыча газа",
                    "Добыча и обогащение минерального сырья (соль, сера, глинозем), разработка карьеров (песок, глина, камень), добыча торфа",
                    "Добыча и обогащение руд черных, цветных, драгоценных, благородных, редких металлов",
                    "Добыча и обогащение угля",
                    "Добыча нефти",
                    "Домашний персонал",
                    "Дорожно-строительная техника, сельскохозяйственная и другая спец.техника, оборудование, лифты, погрузочно-разгрузочное, складское оборудование (монтаж, сервис, ремонт)",
                    "Дорожно-строительная техника, сельскохозяйственная и другая спец.техника, оборудование, лифты, погрузочно-разгрузочное, складское оборудование (продвижение, оптовая торговля)",
                    "Дорожно-строительная техника, сельскохозяйственная и другая спец.техника, оборудование, лифты, погрузочно-разгрузочное, складское оборудование (производство)",
                    "Драгоценные, благородные и редкие металлы (продвижение, оптовая торговля)",
                    "Драгоценные, благородные и редкие металлы (производство)",
                    "Железнодорожное машиностроение, вагоностроение",
                    "Железнодорожные перевозки",
                    "Земледелие, растениеводство, животноводство",
                    "Зоомагазин",
                    "Игорный бизнес",
                    "Издательская деятельность",
                    "Инженерно-изыскательские, гидрогеологические, геологоразведочные работы",
                    "Интернет-компания (поисковики, платежные системы, соц.сети, информационно-познавательные и развлекательные ресурсы, продвижение сайтов и прочее)",
                    "Интернет-магазин",
                    "Интернет-провайдер",
                    "Инфраструктурная компания в энергетике (СО ЕЭС, АТС, ЦФР и т.п.)",
                    "Кадровые агентства",
                    "Канцтовары, расходные материалы (продвижение, оптовая торговля)",
                    "Канцтовары, расходные материалы (производство)",
                    "Кейтеринг (выездное обслуживание)",
                    "Киностудии и студии звукозаписи",
                    "Клинические исследования",
                    "Колл-центры, диспетчерские службы",
                    "Коллекторская деятельность",
                    "Кондитерские изделия (продвижение, оптовая торговля)",
                    "Кондитерские изделия (производство)",
                    "Консалтинг в области энергоэффективности",
                    "Консалтинг, оценка в недвижимости",
                    "Консалтинговые услуги",
                    "Консервированная продукция (продвижение, оптовая торговля)",
                    "Консервированная продукция (производство)",
                    "Контроль качества, экспертиза, испытания и сертификация",
                    "Корма для животных (продвижение, оптовая торговля)",
                    "Корма для животных (производство)",
                    "Курьерская, почтовая доставка",
                    "Лаборатория, исследовательский центр",
                    "Лакокрасочная продукция, сырье (продвижение, оптовая торговля)",
                    "Лакокрасочная продукция, сырье (производство)",
                    "Легковые, грузовые автомобили, мототехника, автобусы, троллейбусы (продвижение, оптовая торговля)",
                    "Легковые, грузовые автомобили, мототехника, автобусы, троллейбусы (производство)",
                    "Лечебно-профилактические учреждения",
                    "Лизинговые компании",
                    "Ликероводочная продукция (производство)",
                    "Лифтовое хозяйство (монтаж, сервис, ремонт)",
                    "Макаронные изделия (продвижение, оптовая торговля)",
                    "Макаронные изделия (производство)",
                    "Маркетинговые, рекламные, BTL, дизайнерские, Event-, PR-агентства, организация выставок",
                    "Масложировая продукция (продвижение, оптовая торговля)",
                    "Масложировая продукция (производство)",
                    "Мебель (продвижение, оптовая торговля)",
                    "Мебель (производство)",
                    "Медицинское, диагностическое оборудование, инструменты (монтаж, сервис, ремонт)",
                    "Медицинское, диагностическое оборудование, инструменты (продвижение, оптовая торговля)",
                    "Медицинское, диагностическое оборудование, инструменты (производство)",
                    "Металлические изделия, металлоконструкции (продвижение, оптовая торговля)",
                    "Металлические изделия, металлоконструкции (производство)",
                    "Мобильная связь",
                    "Молочная продукция (продвижение, оптовая торговля)",
                    "Молочная продукция (производство)",
                    "Морские, речные перевозки",
                    "Музей, галерея, театр",
                    "Мука, крупы (продвижение, оптовая торговля)",
                    "Мука, крупы (производство)",
                    "Мясная продукция (продвижение, оптовая торговля)",
                    "Мясная продукция (производство)",
                    "НПФ",
                    "Научно-исследовательская, научная, академическая деятельность",
                    "Неорганическая химия (продвижение, оптовая торговля)",
                    "Неорганическая химия (производство)",
                    "Несетевая розница, мелкий опт",
                    "Нефтепереработка, нефтехимия (производство)",
                    "Нефтехимия (продвижение, оптовая торговля)",
                    "Обеспечение пожарной безопасности, молниезащиты",
                    "Оборудование для деревообработки, заготовки леса, целлюлозно-бумажной промышленности (монтаж, сервис, ремонт)",
                    "Оборудование для деревообработки, заготовки леса, целлюлозно-бумажной промышленности (продвижение, оптовая торговля)",
                    "Оборудование для деревообработки, заготовки леса, целлюлозно-бумажной промышленности (производство)",
                    "Оборудование для пищевой промышленности, упаковки и хранения (монтаж, сервис, ремонт)",
                    "Оборудование для пищевой промышленности, упаковки и хранения (продвижение, оптовая торговля)",
                    "Оборудование для пищевой промышленности, упаковки и хранения (производство)",
                    "Оборудование для ресторанов, гостиниц, кейтеринга, розничной торговли  (монтаж, сервис, ремонт)",
                    "Оборудование для ресторанов, гостиниц, кейтеринга, розничной торговли  (продвижение, оптовая торговля)",
                    "Оборудование для ресторанов, гостиниц, кейтеринга, розничной торговли (производство)",
                    "Оборудование и станки для добывающей, энергетической, нефтегазовой и химической отрасли  (монтаж, сервис, ремонт)",
                    "Оборудование и станки для добывающей, энергетической, нефтегазовой и химической отрасли  (продвижение, оптовая торговля)",
                    "Оборудование и станки для добывающей, энергетической, нефтегазовой и химической отрасли  (производство)",
                    "Оборудование и станки для металлургии и металлообработки (монтаж, сервис, ремонт)",
                    "Оборудование и станки для металлургии и металлообработки (продвижение, оптовая торговля)",
                    "Оборудование и станки для металлургии и металлообработки (производство)",
                    "Оборудование и станки для отраслей легкой промышленности (монтаж, сервис, ремонт)",
                    "Оборудование и станки для отраслей легкой промышленности (продвижение, оптовая торговля)",
                    "Оборудование и станки для отраслей легкой промышленности (производство)",
                    "Обучение иностранным языкам",
                    "Обучение искусствам (рисование, пение, танцы, фото)",
                    "Общественная, политическая организация",
                    "Одежда, обувь, аксессуары, текстиль  (продвижение, оптовая торговля)",
                    "Одежда, обувь, аксессуары, текстиль (производство)",
                    "Оптоволоконная связь",
                    "Органическая химия (продвижение, оптовая торговля)",
                    "Органическая химия (производство)",
                    "Переводческая деятельность",
                    "Передача, распределение электроэнергии",
                    "Переработка газа",
                    "Пиво (производство)",
                    "Пищевые концентраты (продвижение, оптовая торговля)",
                    "Пищевые концентраты (производство)",
                    "Повышение квалификации, переквалификация",
                    "Полуфабрикаты, в том числе замороженные  (продвижение, оптовая торговля)",
                    "Полуфабрикаты, в том числе замороженные (производство)",
                    "Посуда, свет, товары для дома  (продвижение, оптовая торговля)",
                    "Посуда, свет, товары для дома  (производство)",
                    "Пошив, ремонт одежды и обуви",
                    "Продукция авиационной, аэрокосмической, вертолетной промышленности (монтаж, сервис, ремонт)",
                    "Продукция авиационной, аэрокосмической, вертолетной промышленности (продвижение, оптовая торговля)",
                    "Продукция деревообработки (продвижение, оптовая торговля)",
                    "Продукция железнодорожного машиностроения, вагоностроения (монтаж, сервис, ремонт)",
                    "Продукция железнодорожного машиностроения, вагоностроения (продвижение, оптовая торговля)",
                    "Продукция судостроения (продвижение, оптовая торговля)",
                    "Продукция цветной металлургии (продвижение, оптовая торговля)",
                    "Продукция черной металлургии (продвижение, оптовая торговля)",
                    "Продюсерский центр",
                    "Производство и продажа рекламно-сувенирной продукции",
                    "Производство и ремонт военной техники, оборудования и вооружения",
                    "Производство мультимедиа, контента, редакторская деятельность",
                    "Производство печатной, полиграфической продукции",
                    "Промышленное, бытовое электрооборудование и электротехника (монтаж, сервис, ремонт)",
                    "Промышленное, бытовое электрооборудование и электротехника (продвижение, оптовая торговля)",
                    "Промышленное, бытовое электрооборудование и электротехника (производство)",
                    "Профессиональная, предпринимательская организация",
                    "Разработка программного обеспечения",
                    "Распространение мультимедиа и печатной продукции",
                    "Распространение телепрограмм, кино (кабельное телевидение)",
                    "Резина, пластмасса и прочее (продвижение, оптовая торговля)",
                    "Резина, пластмасса и прочее (производство)",
                    "Ремонт зданий и сооружений",
                    "Ресторан, общественное питание, фаст-фуд",
                    "Ритуальные услуги",
                    "Розничная сеть (DIY и товары для дома)",
                    "Розничная сеть (drogerie, товары повседневного спроса)",
                    "Розничная сеть (книги, игрушки, подарки, часы и прочее)",
                    "Розничная сеть (мебель)",
                    "Розничная сеть (мобильный ритейл)",
                    "Розничная сеть (одежда, обувь, аксессуары)",
                    "Розничная сеть (парфюмерия, косметика)",
                    "Розничная сеть (продуктовая)",
                    "Розничная сеть (спортивные товары)",
                    "Розничная сеть (товары для детей)",
                    "Розничная сеть (электроника, бытовая техника)",
                    "Розничная сеть (ювелирные изделия)",
                    "Розничная торговля автомобилями (дилерский центр)",
                    "Рыба и морепродукты (продвижение, оптовая торговля)",
                    "Рыба и морепродукты (производство)",
                    "Рыболовство, рыбоводство",
                    "Салоны красоты",
                    "Сантехника (продвижение, оптовая торговля)",
                    "Сантехника (производство)",
                    "Сахар (продвижение, оптовая торговля)",
                    "Сахар (производство)",
                    "Сбыт и потребление электроэнергии",
                    "Свежие овощи, фрукты (продвижение, оптовая торговля)",
                    "Сельскохозяйственная продукция (продвижение, оптовая торговля)",
                    "Системная интеграция,  автоматизации технологических и бизнес-процессов предприятия, ИТ-консалтинг",
                    "Складские услуги",
                    "Слаботочные сети (монтаж, сервис, ремонт)",
                    "Снеки (продвижение, оптовая торговля)",
                    "Снеки (производство)",
                    "Спортивная федерация",
                    "Спортивное обучение",
                    "Спортивные и фитнес-клубы",
                    "Спортивные товары и оборудование (продвижение, оптовая торговля)",
                    "Спортивные товары и оборудование (производство)",
                    "Спутниковая связь",
                    "Столярно-строительные изделия (продвижение, оптовая торговля)",
                    "Столярно-строительные изделия (производство)",
                    "Страхование, перестрахование",
                    "Строительство дорожное и инфраструктурное",
                    "Строительство жилищное",
                    "Строительство коммерческих объектов (торговые площади, офисные здания)",
                    "Строительство объектов металлургической отрасли",
                    "Строительство объектов нефтегазовой отрасли",
                    "Строительство объектов телекоммуникационной отрасли",
                    "Строительство промышленное",
                    "Строительство энергетическое",
                    "Стройматериалы, сборные конструкции для ремонта и строительства (продвижение, оптовая торговля)",
                    "Стройматериалы, сборные конструкции для ремонта и строительства (производство, монтаж, сервис, ремонт)",
                    "Судоремонт",
                    "Судостроение",
                    "Табак  (продвижение, оптовая торговля)",
                    "Табак  (производство)",
                    "Такси",
                    "Теле- и радиовещание",
                    "Теплоснабжение (ТЭЦ)",
                    "Теплоэнергетика (генерация электроэнергии и тепла, ТЭС)",
                    "Техническое обслуживание, ремонт автомобилей",
                    "Товары для детей (продвижение, оптовая торговля)",
                    "Товары для детей (производство)",
                    "Транспортировка, хранение газа",
                    "Транспортировка, хранение нефти",
                    "Транспортно-логистические комплексы, порты (воздушный, водный, железнодорожный)",
                    "Тренинговые компании",
                    "Туристические компании",
                    "Управление и эксплуатация недвижимости",
                    "Управляющая компания группы, холдинга, штаб-квартира",
                    "Управляющая, инвестиционная компания (управление активами)",
                    "Услуги по ведению бухгалтерского и налогового учета, расчет заработной платы",
                    "Услуги по организации поездок и бронированию",
                    "Утилизация бытовых отходов",
                    "Учреждение соц.помощи и защиты",
                    "Факторинговые компании",
                    "Фармацевтическая продукция (продвижение, оптовая торговля)",
                    "Фармацевтическая продукция (производство)",
                    "Фиксированная связь",
                    "Финансово-кредитное посредничество (биржа, брокерская деятельность, выпуск и обслуживание карт, оценка рисков, обменные пункты, агентства по кредитованию, инкассация, ломбард, платежные системы)",
                    "Финансовые услуги (кэптивные банки и лизинговые компании)",
                    "Фонд, грантодатель",
                    "Фото- и видеоуслуги",
                    "Химчистка",
                    "Хлебобулочные изделия (продвижение, оптовая торговля)",
                    "Хлебобулочные изделия (производство)",
                    "Цветная металлургия (выплавка, металлопрокат)",
                    "Целлюлозно-бумажная продукция (продвижение, оптовая торговля)",
                    "Целлюлозно-бумажное производство",
                    "Центры развлечения",
                    "Чай, кофе (продвижение, оптовая торговля)",
                    "Чай, кофе (производство)",
                    "Черная металлургия (производство чугуна, стали, проката)",
                    "Школа, детский сад",
                    "Экологическое обслуживание, водоочистка, утилизация отходов",
                    "Электронно-вычислительная, оптическая, контрольно-измерительная техника, радиоэлектроника, автоматика (монтаж, сервис, ремонт)",
                    "Электронно-вычислительная, оптическая, контрольно-измерительная техника, радиоэлектроника, автоматика (продвижение, оптовая торговля)",
                    "Электронно-вычислительная, оптическая, контрольно-измерительная техника, радиоэлектроника, автоматика (производство)",
                    "Энергоснабжение",
                    "Ювелирные изделия, бижутерия  (продвижение, оптовая торговля)",
                    "Ювелирные изделия, бижутерия  (производство)",
                    "Юридическое обслуживание"
                  ],
                  "name": "",
                  "parents": [
                    "",
                    "",
                    "",
                    "",
                    "",
                    "",
                    "",
                    "",
                    "",
                    "",
                    "",
                    "",
                    "",
                    "",
                    "",
                    "",
                    "",
                    "",
                    "",
                    "",
                    "",
                    "",
                    "",
                    "",
                    "",
                    "",
                    "",
                    "",
                    "",
                    "",
                    "",
                    "",
                    "",
                    "",
                    "",
                    "",
                    "",
                    "",
                    "",
                    "",
                    "",
                    "",
                    "",
                    "",
                    "",
                    "",
                    "",
                    "",
                    "",
                    "",
                    "",
                    "",
                    "",
                    "",
                    "",
                    "",
                    "",
                    "",
                    "",
                    "",
                    "",
                    "",
                    "",
                    "",
                    "",
                    "",
                    "",
                    "",
                    "",
                    "",
                    "",
                    "",
                    "",
                    "",
                    "",
                    "",
                    "",
                    "",
                    "",
                    "",
                    "",
                    "",
                    "",
                    "",
                    "",
                    "",
                    "",
                    "",
                    "",
                    "",
                    "",
                    "",
                    "",
                    "",
                    "",
                    "",
                    "",
                    "",
                    "",
                    "",
                    "",
                    "",
                    "",
                    "",
                    "",
                    "",
                    "",
                    "",
                    "",
                    "",
                    "",
                    "",
                    "",
                    "",
                    "",
                    "",
                    "",
                    "",
                    "",
                    "",
                    "",
                    "",
                    "",
                    "",
                    "",
                    "",
                    "",
                    "",
                    "",
                    "",
                    "",
                    "",
                    "",
                    "",
                    "",
                    "",
                    "",
                    "",
                    "",
                    "",
                    "",
                    "",
                    "",
                    "",
                    "",
                    "",
                    "",
                    "",
                    "",
                    "",
                    "",
                    "",
                    "",
                    "",
                    "",
                    "",
                    "",
                    "",
                    "",
                    "",
                    "",
                    "",
                    "",
                    "",
                    "",
                    "",
                    "",
                    "",
                    "",
                    "",
                    "",
                    "",
                    "",
                    "",
                    "",
                    "",
                    "",
                    "",
                    "",
                    "",
                    "",
                    "",
                    "",
                    "",
                    "",
                    "",
                    "",
                    "",
                    "",
                    "",
                    "",
                    "",
                    "",
                    "",
                    "",
                    "",
                    "",
                    "",
                    "",
                    "",
                    "",
                    "",
                    "",
                    "",
                    "",
                    "",
                    "",
                    "",
                    "",
                    "",
                    "",
                    "",
                    "",
                    "",
                    "",
                    "",
                    "",
                    "",
                    "",
                    "",
                    "",
                    "",
                    "",
                    "",
                    "",
                    "",
                    "",
                    "",
                    "",
                    "",
                    "",
                    "",
                    "",
                    "",
                    "",
                    "",
                    "",
                    "",
                    "",
                    "",
                    "",
                    "",
                    "",
                    "",
                    "",
                    "",
                    "",
                    "",
                    "",
                    "",
                    "",
                    "",
                    "",
                    "",
                    "",
                    "",
                    "",
                    "",
                    "",
                    "",
                    "",
                    "",
                    "",
                    "",
                    "",
                    "",
                    "",
                    "",
                    "",
                    "",
                    "",
                    "",
                    "",
                    "",
                    "",
                    "",
                    "",
                    "",
                    "",
                    "",
                    "",
                    "",
                    "",
                    "",
                    "",
                    "",
                    "",
                    "",
                    "",
                    "",
                    ""
                  ],
                  "type": "treemap",
                  "values": [
                    93774,
                    79564,
                    84961,
                    78637,
                    87282,
                    84214,
                    83206,
                    381429,
                    339875,
                    64635,
                    75099,
                    85391,
                    46136,
                    36858,
                    71944,
                    69335,
                    79558,
                    84009,
                    65987,
                    66032,
                    56957,
                    78813,
                    85526,
                    70059,
                    55000,
                    53839,
                    54991,
                    75871,
                    93978,
                    100459,
                    130120,
                    103128,
                    54520,
                    83182,
                    57500,
                    113364,
                    47471,
                    60288,
                    59494,
                    65292,
                    57282,
                    66329,
                    68380,
                    58508,
                    75716,
                    58727,
                    74215,
                    79966,
                    66398,
                    54263,
                    32868,
                    88291,
                    86644,
                    91012,
                    88097,
                    92443,
                    59071,
                    76992,
                    119919,
                    122878,
                    73960,
                    81958,
                    99579,
                    100066,
                    72921,
                    167613,
                    191905,
                    99713,
                    84842,
                    70462,
                    90584,
                    59111,
                    95892,
                    144530,
                    85095,
                    85714,
                    50242,
                    63554,
                    83805,
                    63772,
                    47894,
                    65240,
                    71181,
                    95051,
                    89721,
                    91281,
                    70996,
                    71908,
                    73333,
                    113667,
                    168300,
                    76945,
                    78103,
                    128445,
                    142803,
                    83395,
                    89862,
                    71990,
                    112306,
                    58567,
                    62857,
                    58739,
                    55854,
                    91284,
                    85604,
                    92847,
                    82693,
                    81012,
                    70347,
                    70473,
                    73174,
                    84054,
                    75944,
                    52300,
                    75732,
                    64482,
                    91327,
                    77995,
                    57982,
                    54865,
                    76664,
                    71136,
                    104000,
                    88823,
                    58721,
                    65925,
                    80652,
                    69767,
                    77878,
                    46192,
                    61091,
                    74540,
                    55509,
                    60821,
                    74271,
                    119656,
                    48212,
                    49595,
                    58336,
                    85870,
                    79695,
                    85572,
                    65795,
                    69278,
                    69351,
                    96888,
                    74892,
                    71826,
                    53456,
                    83105,
                    62733,
                    84488,
                    74732,
                    52335,
                    58039,
                    67638,
                    43229,
                    88767,
                    34068,
                    63953,
                    79697,
                    86761,
                    68887,
                    84034,
                    88284,
                    63218,
                    64653,
                    104000,
                    83047,
                    73346,
                    61627,
                    57634,
                    70806,
                    61650,
                    79541,
                    73606,
                    70217,
                    43213,
                    72502,
                    76593,
                    51742,
                    68161,
                    73634,
                    82449,
                    59699,
                    117659,
                    81714,
                    59995,
                    70619,
                    70443,
                    80572,
                    69269,
                    37401,
                    81633,
                    68912,
                    74902,
                    79201,
                    62034,
                    72272,
                    79764,
                    69396,
                    54328,
                    65301,
                    68700,
                    88947,
                    95411,
                    97500,
                    54545,
                    60000,
                    81018,
                    72367,
                    75048,
                    77756,
                    73492,
                    87055,
                    95209,
                    77494,
                    102285,
                    93391,
                    68724,
                    91470,
                    95883,
                    45832,
                    60352,
                    75009,
                    71472,
                    65714,
                    57167,
                    78194,
                    62648,
                    76402,
                    87111,
                    76459,
                    82844,
                    67384,
                    98768,
                    77065,
                    85165,
                    72194,
                    82736,
                    77085,
                    48433,
                    69638,
                    43956,
                    43114,
                    75929,
                    59313,
                    60859,
                    56208,
                    83195,
                    61084,
                    82275,
                    57987,
                    95821,
                    90675,
                    80575,
                    72985,
                    65473,
                    60784,
                    114297,
                    69528,
                    85807,
                    79784,
                    113125,
                    100000,
                    86116,
                    86698,
                    49626,
                    117714,
                    84404,
                    102667,
                    40961,
                    53125,
                    61683,
                    58660,
                    65591,
                    80033,
                    82536,
                    67642,
                    63471,
                    80000,
                    59347,
                    46268,
                    68411,
                    67193,
                    75254,
                    76441,
                    57723,
                    85217,
                    82016,
                    85844
                  ]
                }
              ],
              "layout": {
                "height": 500,
                "legend": {
                  "tracegroupgap": 0
                },
                "template": {
                  "data": {
                    "bar": [
                      {
                        "error_x": {
                          "color": "#2a3f5f"
                        },
                        "error_y": {
                          "color": "#2a3f5f"
                        },
                        "marker": {
                          "line": {
                            "color": "#E5ECF6",
                            "width": 0.5
                          },
                          "pattern": {
                            "fillmode": "overlay",
                            "size": 10,
                            "solidity": 0.2
                          }
                        },
                        "type": "bar"
                      }
                    ],
                    "barpolar": [
                      {
                        "marker": {
                          "line": {
                            "color": "#E5ECF6",
                            "width": 0.5
                          },
                          "pattern": {
                            "fillmode": "overlay",
                            "size": 10,
                            "solidity": 0.2
                          }
                        },
                        "type": "barpolar"
                      }
                    ],
                    "carpet": [
                      {
                        "aaxis": {
                          "endlinecolor": "#2a3f5f",
                          "gridcolor": "white",
                          "linecolor": "white",
                          "minorgridcolor": "white",
                          "startlinecolor": "#2a3f5f"
                        },
                        "baxis": {
                          "endlinecolor": "#2a3f5f",
                          "gridcolor": "white",
                          "linecolor": "white",
                          "minorgridcolor": "white",
                          "startlinecolor": "#2a3f5f"
                        },
                        "type": "carpet"
                      }
                    ],
                    "choropleth": [
                      {
                        "colorbar": {
                          "outlinewidth": 0,
                          "ticks": ""
                        },
                        "type": "choropleth"
                      }
                    ],
                    "contour": [
                      {
                        "colorbar": {
                          "outlinewidth": 0,
                          "ticks": ""
                        },
                        "colorscale": [
                          [
                            0,
                            "#0d0887"
                          ],
                          [
                            0.1111111111111111,
                            "#46039f"
                          ],
                          [
                            0.2222222222222222,
                            "#7201a8"
                          ],
                          [
                            0.3333333333333333,
                            "#9c179e"
                          ],
                          [
                            0.4444444444444444,
                            "#bd3786"
                          ],
                          [
                            0.5555555555555556,
                            "#d8576b"
                          ],
                          [
                            0.6666666666666666,
                            "#ed7953"
                          ],
                          [
                            0.7777777777777778,
                            "#fb9f3a"
                          ],
                          [
                            0.8888888888888888,
                            "#fdca26"
                          ],
                          [
                            1,
                            "#f0f921"
                          ]
                        ],
                        "type": "contour"
                      }
                    ],
                    "contourcarpet": [
                      {
                        "colorbar": {
                          "outlinewidth": 0,
                          "ticks": ""
                        },
                        "type": "contourcarpet"
                      }
                    ],
                    "heatmap": [
                      {
                        "colorbar": {
                          "outlinewidth": 0,
                          "ticks": ""
                        },
                        "colorscale": [
                          [
                            0,
                            "#0d0887"
                          ],
                          [
                            0.1111111111111111,
                            "#46039f"
                          ],
                          [
                            0.2222222222222222,
                            "#7201a8"
                          ],
                          [
                            0.3333333333333333,
                            "#9c179e"
                          ],
                          [
                            0.4444444444444444,
                            "#bd3786"
                          ],
                          [
                            0.5555555555555556,
                            "#d8576b"
                          ],
                          [
                            0.6666666666666666,
                            "#ed7953"
                          ],
                          [
                            0.7777777777777778,
                            "#fb9f3a"
                          ],
                          [
                            0.8888888888888888,
                            "#fdca26"
                          ],
                          [
                            1,
                            "#f0f921"
                          ]
                        ],
                        "type": "heatmap"
                      }
                    ],
                    "heatmapgl": [
                      {
                        "colorbar": {
                          "outlinewidth": 0,
                          "ticks": ""
                        },
                        "colorscale": [
                          [
                            0,
                            "#0d0887"
                          ],
                          [
                            0.1111111111111111,
                            "#46039f"
                          ],
                          [
                            0.2222222222222222,
                            "#7201a8"
                          ],
                          [
                            0.3333333333333333,
                            "#9c179e"
                          ],
                          [
                            0.4444444444444444,
                            "#bd3786"
                          ],
                          [
                            0.5555555555555556,
                            "#d8576b"
                          ],
                          [
                            0.6666666666666666,
                            "#ed7953"
                          ],
                          [
                            0.7777777777777778,
                            "#fb9f3a"
                          ],
                          [
                            0.8888888888888888,
                            "#fdca26"
                          ],
                          [
                            1,
                            "#f0f921"
                          ]
                        ],
                        "type": "heatmapgl"
                      }
                    ],
                    "histogram": [
                      {
                        "marker": {
                          "pattern": {
                            "fillmode": "overlay",
                            "size": 10,
                            "solidity": 0.2
                          }
                        },
                        "type": "histogram"
                      }
                    ],
                    "histogram2d": [
                      {
                        "colorbar": {
                          "outlinewidth": 0,
                          "ticks": ""
                        },
                        "colorscale": [
                          [
                            0,
                            "#0d0887"
                          ],
                          [
                            0.1111111111111111,
                            "#46039f"
                          ],
                          [
                            0.2222222222222222,
                            "#7201a8"
                          ],
                          [
                            0.3333333333333333,
                            "#9c179e"
                          ],
                          [
                            0.4444444444444444,
                            "#bd3786"
                          ],
                          [
                            0.5555555555555556,
                            "#d8576b"
                          ],
                          [
                            0.6666666666666666,
                            "#ed7953"
                          ],
                          [
                            0.7777777777777778,
                            "#fb9f3a"
                          ],
                          [
                            0.8888888888888888,
                            "#fdca26"
                          ],
                          [
                            1,
                            "#f0f921"
                          ]
                        ],
                        "type": "histogram2d"
                      }
                    ],
                    "histogram2dcontour": [
                      {
                        "colorbar": {
                          "outlinewidth": 0,
                          "ticks": ""
                        },
                        "colorscale": [
                          [
                            0,
                            "#0d0887"
                          ],
                          [
                            0.1111111111111111,
                            "#46039f"
                          ],
                          [
                            0.2222222222222222,
                            "#7201a8"
                          ],
                          [
                            0.3333333333333333,
                            "#9c179e"
                          ],
                          [
                            0.4444444444444444,
                            "#bd3786"
                          ],
                          [
                            0.5555555555555556,
                            "#d8576b"
                          ],
                          [
                            0.6666666666666666,
                            "#ed7953"
                          ],
                          [
                            0.7777777777777778,
                            "#fb9f3a"
                          ],
                          [
                            0.8888888888888888,
                            "#fdca26"
                          ],
                          [
                            1,
                            "#f0f921"
                          ]
                        ],
                        "type": "histogram2dcontour"
                      }
                    ],
                    "mesh3d": [
                      {
                        "colorbar": {
                          "outlinewidth": 0,
                          "ticks": ""
                        },
                        "type": "mesh3d"
                      }
                    ],
                    "parcoords": [
                      {
                        "line": {
                          "colorbar": {
                            "outlinewidth": 0,
                            "ticks": ""
                          }
                        },
                        "type": "parcoords"
                      }
                    ],
                    "pie": [
                      {
                        "automargin": true,
                        "type": "pie"
                      }
                    ],
                    "scatter": [
                      {
                        "fillpattern": {
                          "fillmode": "overlay",
                          "size": 10,
                          "solidity": 0.2
                        },
                        "type": "scatter"
                      }
                    ],
                    "scatter3d": [
                      {
                        "line": {
                          "colorbar": {
                            "outlinewidth": 0,
                            "ticks": ""
                          }
                        },
                        "marker": {
                          "colorbar": {
                            "outlinewidth": 0,
                            "ticks": ""
                          }
                        },
                        "type": "scatter3d"
                      }
                    ],
                    "scattercarpet": [
                      {
                        "marker": {
                          "colorbar": {
                            "outlinewidth": 0,
                            "ticks": ""
                          }
                        },
                        "type": "scattercarpet"
                      }
                    ],
                    "scattergeo": [
                      {
                        "marker": {
                          "colorbar": {
                            "outlinewidth": 0,
                            "ticks": ""
                          }
                        },
                        "type": "scattergeo"
                      }
                    ],
                    "scattergl": [
                      {
                        "marker": {
                          "colorbar": {
                            "outlinewidth": 0,
                            "ticks": ""
                          }
                        },
                        "type": "scattergl"
                      }
                    ],
                    "scattermapbox": [
                      {
                        "marker": {
                          "colorbar": {
                            "outlinewidth": 0,
                            "ticks": ""
                          }
                        },
                        "type": "scattermapbox"
                      }
                    ],
                    "scatterpolar": [
                      {
                        "marker": {
                          "colorbar": {
                            "outlinewidth": 0,
                            "ticks": ""
                          }
                        },
                        "type": "scatterpolar"
                      }
                    ],
                    "scatterpolargl": [
                      {
                        "marker": {
                          "colorbar": {
                            "outlinewidth": 0,
                            "ticks": ""
                          }
                        },
                        "type": "scatterpolargl"
                      }
                    ],
                    "scatterternary": [
                      {
                        "marker": {
                          "colorbar": {
                            "outlinewidth": 0,
                            "ticks": ""
                          }
                        },
                        "type": "scatterternary"
                      }
                    ],
                    "surface": [
                      {
                        "colorbar": {
                          "outlinewidth": 0,
                          "ticks": ""
                        },
                        "colorscale": [
                          [
                            0,
                            "#0d0887"
                          ],
                          [
                            0.1111111111111111,
                            "#46039f"
                          ],
                          [
                            0.2222222222222222,
                            "#7201a8"
                          ],
                          [
                            0.3333333333333333,
                            "#9c179e"
                          ],
                          [
                            0.4444444444444444,
                            "#bd3786"
                          ],
                          [
                            0.5555555555555556,
                            "#d8576b"
                          ],
                          [
                            0.6666666666666666,
                            "#ed7953"
                          ],
                          [
                            0.7777777777777778,
                            "#fb9f3a"
                          ],
                          [
                            0.8888888888888888,
                            "#fdca26"
                          ],
                          [
                            1,
                            "#f0f921"
                          ]
                        ],
                        "type": "surface"
                      }
                    ],
                    "table": [
                      {
                        "cells": {
                          "fill": {
                            "color": "#EBF0F8"
                          },
                          "line": {
                            "color": "white"
                          }
                        },
                        "header": {
                          "fill": {
                            "color": "#C8D4E3"
                          },
                          "line": {
                            "color": "white"
                          }
                        },
                        "type": "table"
                      }
                    ]
                  },
                  "layout": {
                    "annotationdefaults": {
                      "arrowcolor": "#2a3f5f",
                      "arrowhead": 0,
                      "arrowwidth": 1
                    },
                    "autotypenumbers": "strict",
                    "coloraxis": {
                      "colorbar": {
                        "outlinewidth": 0,
                        "ticks": ""
                      }
                    },
                    "colorscale": {
                      "diverging": [
                        [
                          0,
                          "#8e0152"
                        ],
                        [
                          0.1,
                          "#c51b7d"
                        ],
                        [
                          0.2,
                          "#de77ae"
                        ],
                        [
                          0.3,
                          "#f1b6da"
                        ],
                        [
                          0.4,
                          "#fde0ef"
                        ],
                        [
                          0.5,
                          "#f7f7f7"
                        ],
                        [
                          0.6,
                          "#e6f5d0"
                        ],
                        [
                          0.7,
                          "#b8e186"
                        ],
                        [
                          0.8,
                          "#7fbc41"
                        ],
                        [
                          0.9,
                          "#4d9221"
                        ],
                        [
                          1,
                          "#276419"
                        ]
                      ],
                      "sequential": [
                        [
                          0,
                          "#0d0887"
                        ],
                        [
                          0.1111111111111111,
                          "#46039f"
                        ],
                        [
                          0.2222222222222222,
                          "#7201a8"
                        ],
                        [
                          0.3333333333333333,
                          "#9c179e"
                        ],
                        [
                          0.4444444444444444,
                          "#bd3786"
                        ],
                        [
                          0.5555555555555556,
                          "#d8576b"
                        ],
                        [
                          0.6666666666666666,
                          "#ed7953"
                        ],
                        [
                          0.7777777777777778,
                          "#fb9f3a"
                        ],
                        [
                          0.8888888888888888,
                          "#fdca26"
                        ],
                        [
                          1,
                          "#f0f921"
                        ]
                      ],
                      "sequentialminus": [
                        [
                          0,
                          "#0d0887"
                        ],
                        [
                          0.1111111111111111,
                          "#46039f"
                        ],
                        [
                          0.2222222222222222,
                          "#7201a8"
                        ],
                        [
                          0.3333333333333333,
                          "#9c179e"
                        ],
                        [
                          0.4444444444444444,
                          "#bd3786"
                        ],
                        [
                          0.5555555555555556,
                          "#d8576b"
                        ],
                        [
                          0.6666666666666666,
                          "#ed7953"
                        ],
                        [
                          0.7777777777777778,
                          "#fb9f3a"
                        ],
                        [
                          0.8888888888888888,
                          "#fdca26"
                        ],
                        [
                          1,
                          "#f0f921"
                        ]
                      ]
                    },
                    "colorway": [
                      "#636efa",
                      "#EF553B",
                      "#00cc96",
                      "#ab63fa",
                      "#FFA15A",
                      "#19d3f3",
                      "#FF6692",
                      "#B6E880",
                      "#FF97FF",
                      "#FECB52"
                    ],
                    "font": {
                      "color": "#2a3f5f"
                    },
                    "geo": {
                      "bgcolor": "white",
                      "lakecolor": "white",
                      "landcolor": "#E5ECF6",
                      "showlakes": true,
                      "showland": true,
                      "subunitcolor": "white"
                    },
                    "hoverlabel": {
                      "align": "left"
                    },
                    "hovermode": "closest",
                    "mapbox": {
                      "style": "light"
                    },
                    "paper_bgcolor": "white",
                    "plot_bgcolor": "#E5ECF6",
                    "polar": {
                      "angularaxis": {
                        "gridcolor": "white",
                        "linecolor": "white",
                        "ticks": ""
                      },
                      "bgcolor": "#E5ECF6",
                      "radialaxis": {
                        "gridcolor": "white",
                        "linecolor": "white",
                        "ticks": ""
                      }
                    },
                    "scene": {
                      "xaxis": {
                        "backgroundcolor": "#E5ECF6",
                        "gridcolor": "white",
                        "gridwidth": 2,
                        "linecolor": "white",
                        "showbackground": true,
                        "ticks": "",
                        "zerolinecolor": "white"
                      },
                      "yaxis": {
                        "backgroundcolor": "#E5ECF6",
                        "gridcolor": "white",
                        "gridwidth": 2,
                        "linecolor": "white",
                        "showbackground": true,
                        "ticks": "",
                        "zerolinecolor": "white"
                      },
                      "zaxis": {
                        "backgroundcolor": "#E5ECF6",
                        "gridcolor": "white",
                        "gridwidth": 2,
                        "linecolor": "white",
                        "showbackground": true,
                        "ticks": "",
                        "zerolinecolor": "white"
                      }
                    },
                    "shapedefaults": {
                      "line": {
                        "color": "#2a3f5f"
                      }
                    },
                    "ternary": {
                      "aaxis": {
                        "gridcolor": "white",
                        "linecolor": "white",
                        "ticks": ""
                      },
                      "baxis": {
                        "gridcolor": "white",
                        "linecolor": "white",
                        "ticks": ""
                      },
                      "bgcolor": "#E5ECF6",
                      "caxis": {
                        "gridcolor": "white",
                        "linecolor": "white",
                        "ticks": ""
                      }
                    },
                    "title": {
                      "x": 0.05
                    },
                    "xaxis": {
                      "automargin": true,
                      "gridcolor": "white",
                      "linecolor": "white",
                      "ticks": "",
                      "title": {
                        "standoff": 15
                      },
                      "zerolinecolor": "white",
                      "zerolinewidth": 2
                    },
                    "yaxis": {
                      "automargin": true,
                      "gridcolor": "white",
                      "linecolor": "white",
                      "ticks": "",
                      "title": {
                        "standoff": 15
                      },
                      "zerolinecolor": "white",
                      "zerolinewidth": 2
                    }
                  }
                },
                "title": {
                  "text": "Средняя ЗП в зависимости от индустрии"
                },
                "width": 1000
              }
            }
          },
          "metadata": {},
          "output_type": "display_data"
        }
      ],
      "source": [
        "tm_7_1 = px.treemap(\n",
        "    data_frame=df_7_1, #DataFrame\n",
        "    path=['industry'], #категориальный признак, для которого строится график\n",
        "    values='round', #параметр, который сравнивается\n",
        "    height=500, #высота\n",
        "    width=1000, #ширина\n",
        "    title='Средняя ЗП в зависимости от индустрии'\n",
        ")\n",
        "tm_7_1.write_html('plots/tm_7_1.html')\n",
        "display(tm_7_1)\n"
      ]
    },
    {
      "attachments": {},
      "cell_type": "markdown",
      "id": "3047db47",
      "metadata": {},
      "source": [
        "По результатам видно, что самые большие ЗП в компаниях, связанных с сельским хозяйством."
      ]
    },
    {
      "attachments": {},
      "cell_type": "markdown",
      "id": "f1236063",
      "metadata": {},
      "source": [
        "1. HH охватывает почти все страны СНГ. Наибольшее количество рабочих мест в столицах и городах - милионниках.\n",
        "2. В среднем работодатели готовы платить от 70 до 110 тыс.руб.(данные могут быть искажены из-за разных валют)\n",
        "3. По ЗП лидируют агропромышленность и разработка ПО.\n",
        "4. Работодатели чаще всего ищут людей с опытом от года до 3 лет, более 6 лет реже всего(скорее всего связанно с тем, что это уже зачастую руководящие должности).\n",
        "5. В области работы с данными необходимо знать python и sql."
      ]
    }
  ],
  "metadata": {
    "colab": {
      "collapsed_sections": [
        "8d62a9f3-f64e-4fe7-bdac-c4dffa16155e"
      ],
      "provenance": []
    },
    "kernelspec": {
      "display_name": "Python 3 (ipykernel)",
      "language": "python",
      "name": "python3"
    },
    "language_info": {
      "codemirror_mode": {
        "name": "ipython",
        "version": 3
      },
      "file_extension": ".py",
      "mimetype": "text/x-python",
      "name": "python",
      "nbconvert_exporter": "python",
      "pygments_lexer": "ipython3",
      "version": "3.9.13"
    }
  },
  "nbformat": 4,
  "nbformat_minor": 5
}
